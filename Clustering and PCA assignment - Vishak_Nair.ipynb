{
 "cells": [
  {
   "cell_type": "code",
   "execution_count": 1,
   "metadata": {},
   "outputs": [],
   "source": [
    "#Importing the necessary libaries\n",
    "import numpy as np\n",
    "import pandas as pd\n",
    "import seaborn as sns\n",
    "import matplotlib.pyplot as plt\n",
    "#Libraries for KMeans clustering and associated\n",
    "import sklearn\n",
    "from sklearn.preprocessing import StandardScaler\n",
    "from sklearn.cluster import KMeans\n",
    "from sklearn.metrics import silhouette_score\n",
    "#Libraries for Hierarchical clustering and associated\n",
    "from scipy.cluster.hierarchy import linkage\n",
    "from scipy.cluster.hierarchy import dendrogram\n",
    "from scipy.cluster.hierarchy import cut_tree\n",
    "#Libraries for PCA\n",
    "from sklearn.decomposition import PCA\n",
    "from sklearn.decomposition import IncrementalPCA\n"
   ]
  },
  {
   "cell_type": "code",
   "execution_count": 2,
   "metadata": {},
   "outputs": [],
   "source": [
    "#Ignore warnings\n",
    "import warnings\n",
    "warnings.filterwarnings('ignore')"
   ]
  },
  {
   "cell_type": "code",
   "execution_count": 3,
   "metadata": {},
   "outputs": [
    {
     "data": {
      "text/html": [
       "<div>\n",
       "<style scoped>\n",
       "    .dataframe tbody tr th:only-of-type {\n",
       "        vertical-align: middle;\n",
       "    }\n",
       "\n",
       "    .dataframe tbody tr th {\n",
       "        vertical-align: top;\n",
       "    }\n",
       "\n",
       "    .dataframe thead th {\n",
       "        text-align: right;\n",
       "    }\n",
       "</style>\n",
       "<table border=\"1\" class=\"dataframe\">\n",
       "  <thead>\n",
       "    <tr style=\"text-align: right;\">\n",
       "      <th></th>\n",
       "      <th>country</th>\n",
       "      <th>child_mort</th>\n",
       "      <th>exports</th>\n",
       "      <th>health</th>\n",
       "      <th>imports</th>\n",
       "      <th>income</th>\n",
       "      <th>inflation</th>\n",
       "      <th>life_expec</th>\n",
       "      <th>total_fer</th>\n",
       "      <th>gdpp</th>\n",
       "    </tr>\n",
       "  </thead>\n",
       "  <tbody>\n",
       "    <tr>\n",
       "      <th>0</th>\n",
       "      <td>Afghanistan</td>\n",
       "      <td>90.2</td>\n",
       "      <td>10.0</td>\n",
       "      <td>7.58</td>\n",
       "      <td>44.9</td>\n",
       "      <td>1610</td>\n",
       "      <td>9.44</td>\n",
       "      <td>56.2</td>\n",
       "      <td>5.82</td>\n",
       "      <td>553</td>\n",
       "    </tr>\n",
       "    <tr>\n",
       "      <th>1</th>\n",
       "      <td>Albania</td>\n",
       "      <td>16.6</td>\n",
       "      <td>28.0</td>\n",
       "      <td>6.55</td>\n",
       "      <td>48.6</td>\n",
       "      <td>9930</td>\n",
       "      <td>4.49</td>\n",
       "      <td>76.3</td>\n",
       "      <td>1.65</td>\n",
       "      <td>4090</td>\n",
       "    </tr>\n",
       "    <tr>\n",
       "      <th>2</th>\n",
       "      <td>Algeria</td>\n",
       "      <td>27.3</td>\n",
       "      <td>38.4</td>\n",
       "      <td>4.17</td>\n",
       "      <td>31.4</td>\n",
       "      <td>12900</td>\n",
       "      <td>16.10</td>\n",
       "      <td>76.5</td>\n",
       "      <td>2.89</td>\n",
       "      <td>4460</td>\n",
       "    </tr>\n",
       "    <tr>\n",
       "      <th>3</th>\n",
       "      <td>Angola</td>\n",
       "      <td>119.0</td>\n",
       "      <td>62.3</td>\n",
       "      <td>2.85</td>\n",
       "      <td>42.9</td>\n",
       "      <td>5900</td>\n",
       "      <td>22.40</td>\n",
       "      <td>60.1</td>\n",
       "      <td>6.16</td>\n",
       "      <td>3530</td>\n",
       "    </tr>\n",
       "    <tr>\n",
       "      <th>4</th>\n",
       "      <td>Antigua and Barbuda</td>\n",
       "      <td>10.3</td>\n",
       "      <td>45.5</td>\n",
       "      <td>6.03</td>\n",
       "      <td>58.9</td>\n",
       "      <td>19100</td>\n",
       "      <td>1.44</td>\n",
       "      <td>76.8</td>\n",
       "      <td>2.13</td>\n",
       "      <td>12200</td>\n",
       "    </tr>\n",
       "  </tbody>\n",
       "</table>\n",
       "</div>"
      ],
      "text/plain": [
       "               country  child_mort  exports  health  imports  income  \\\n",
       "0          Afghanistan        90.2     10.0    7.58     44.9    1610   \n",
       "1              Albania        16.6     28.0    6.55     48.6    9930   \n",
       "2              Algeria        27.3     38.4    4.17     31.4   12900   \n",
       "3               Angola       119.0     62.3    2.85     42.9    5900   \n",
       "4  Antigua and Barbuda        10.3     45.5    6.03     58.9   19100   \n",
       "\n",
       "   inflation  life_expec  total_fer   gdpp  \n",
       "0       9.44        56.2       5.82    553  \n",
       "1       4.49        76.3       1.65   4090  \n",
       "2      16.10        76.5       2.89   4460  \n",
       "3      22.40        60.1       6.16   3530  \n",
       "4       1.44        76.8       2.13  12200  "
      ]
     },
     "execution_count": 3,
     "metadata": {},
     "output_type": "execute_result"
    }
   ],
   "source": [
    "#Reading the dataset into country_df dataframe\n",
    "country_df = pd.read_csv('Country-data.csv')\n",
    "country_df.head()"
   ]
  },
  {
   "cell_type": "markdown",
   "metadata": {},
   "source": [
    "#### Understanding the dataframe"
   ]
  },
  {
   "cell_type": "code",
   "execution_count": 4,
   "metadata": {},
   "outputs": [
    {
     "data": {
      "text/plain": [
       "(167, 10)"
      ]
     },
     "execution_count": 4,
     "metadata": {},
     "output_type": "execute_result"
    }
   ],
   "source": [
    "#Shape of the dataframe\n",
    "country_df.shape"
   ]
  },
  {
   "cell_type": "markdown",
   "metadata": {},
   "source": [
    "<font color = green > That means there are 167 datapoints/records/country_records in the dataset and 10 columns"
   ]
  },
  {
   "cell_type": "code",
   "execution_count": 5,
   "metadata": {},
   "outputs": [
    {
     "name": "stdout",
     "output_type": "stream",
     "text": [
      "<class 'pandas.core.frame.DataFrame'>\n",
      "RangeIndex: 167 entries, 0 to 166\n",
      "Data columns (total 10 columns):\n",
      "country       167 non-null object\n",
      "child_mort    167 non-null float64\n",
      "exports       167 non-null float64\n",
      "health        167 non-null float64\n",
      "imports       167 non-null float64\n",
      "income        167 non-null int64\n",
      "inflation     167 non-null float64\n",
      "life_expec    167 non-null float64\n",
      "total_fer     167 non-null float64\n",
      "gdpp          167 non-null int64\n",
      "dtypes: float64(7), int64(2), object(1)\n",
      "memory usage: 13.1+ KB\n"
     ]
    }
   ],
   "source": [
    "#Info of the dataframe\n",
    "country_df.info()"
   ]
  },
  {
   "cell_type": "markdown",
   "metadata": {},
   "source": [
    "<font color = green > It is clear that all the column contains 167 records which is same as original shape. Hence no null values present in the dataframe. This is the initial check for null values.\n",
    "Also other observation is that except Country column all other columns are numerical columns."
   ]
  },
  {
   "cell_type": "code",
   "execution_count": 6,
   "metadata": {},
   "outputs": [
    {
     "data": {
      "text/html": [
       "<div>\n",
       "<style scoped>\n",
       "    .dataframe tbody tr th:only-of-type {\n",
       "        vertical-align: middle;\n",
       "    }\n",
       "\n",
       "    .dataframe tbody tr th {\n",
       "        vertical-align: top;\n",
       "    }\n",
       "\n",
       "    .dataframe thead th {\n",
       "        text-align: right;\n",
       "    }\n",
       "</style>\n",
       "<table border=\"1\" class=\"dataframe\">\n",
       "  <thead>\n",
       "    <tr style=\"text-align: right;\">\n",
       "      <th></th>\n",
       "      <th>child_mort</th>\n",
       "      <th>exports</th>\n",
       "      <th>health</th>\n",
       "      <th>imports</th>\n",
       "      <th>income</th>\n",
       "      <th>inflation</th>\n",
       "      <th>life_expec</th>\n",
       "      <th>total_fer</th>\n",
       "      <th>gdpp</th>\n",
       "    </tr>\n",
       "  </thead>\n",
       "  <tbody>\n",
       "    <tr>\n",
       "      <th>count</th>\n",
       "      <td>167.000000</td>\n",
       "      <td>167.000000</td>\n",
       "      <td>167.000000</td>\n",
       "      <td>167.000000</td>\n",
       "      <td>167.000000</td>\n",
       "      <td>167.000000</td>\n",
       "      <td>167.000000</td>\n",
       "      <td>167.000000</td>\n",
       "      <td>167.000000</td>\n",
       "    </tr>\n",
       "    <tr>\n",
       "      <th>mean</th>\n",
       "      <td>38.270060</td>\n",
       "      <td>41.108976</td>\n",
       "      <td>6.815689</td>\n",
       "      <td>46.890215</td>\n",
       "      <td>17144.688623</td>\n",
       "      <td>7.781832</td>\n",
       "      <td>70.555689</td>\n",
       "      <td>2.947964</td>\n",
       "      <td>12964.155689</td>\n",
       "    </tr>\n",
       "    <tr>\n",
       "      <th>std</th>\n",
       "      <td>40.328931</td>\n",
       "      <td>27.412010</td>\n",
       "      <td>2.746837</td>\n",
       "      <td>24.209589</td>\n",
       "      <td>19278.067698</td>\n",
       "      <td>10.570704</td>\n",
       "      <td>8.893172</td>\n",
       "      <td>1.513848</td>\n",
       "      <td>18328.704809</td>\n",
       "    </tr>\n",
       "    <tr>\n",
       "      <th>min</th>\n",
       "      <td>2.600000</td>\n",
       "      <td>0.109000</td>\n",
       "      <td>1.810000</td>\n",
       "      <td>0.065900</td>\n",
       "      <td>609.000000</td>\n",
       "      <td>-4.210000</td>\n",
       "      <td>32.100000</td>\n",
       "      <td>1.150000</td>\n",
       "      <td>231.000000</td>\n",
       "    </tr>\n",
       "    <tr>\n",
       "      <th>25%</th>\n",
       "      <td>8.250000</td>\n",
       "      <td>23.800000</td>\n",
       "      <td>4.920000</td>\n",
       "      <td>30.200000</td>\n",
       "      <td>3355.000000</td>\n",
       "      <td>1.810000</td>\n",
       "      <td>65.300000</td>\n",
       "      <td>1.795000</td>\n",
       "      <td>1330.000000</td>\n",
       "    </tr>\n",
       "    <tr>\n",
       "      <th>50%</th>\n",
       "      <td>19.300000</td>\n",
       "      <td>35.000000</td>\n",
       "      <td>6.320000</td>\n",
       "      <td>43.300000</td>\n",
       "      <td>9960.000000</td>\n",
       "      <td>5.390000</td>\n",
       "      <td>73.100000</td>\n",
       "      <td>2.410000</td>\n",
       "      <td>4660.000000</td>\n",
       "    </tr>\n",
       "    <tr>\n",
       "      <th>75%</th>\n",
       "      <td>62.100000</td>\n",
       "      <td>51.350000</td>\n",
       "      <td>8.600000</td>\n",
       "      <td>58.750000</td>\n",
       "      <td>22800.000000</td>\n",
       "      <td>10.750000</td>\n",
       "      <td>76.800000</td>\n",
       "      <td>3.880000</td>\n",
       "      <td>14050.000000</td>\n",
       "    </tr>\n",
       "    <tr>\n",
       "      <th>max</th>\n",
       "      <td>208.000000</td>\n",
       "      <td>200.000000</td>\n",
       "      <td>17.900000</td>\n",
       "      <td>174.000000</td>\n",
       "      <td>125000.000000</td>\n",
       "      <td>104.000000</td>\n",
       "      <td>82.800000</td>\n",
       "      <td>7.490000</td>\n",
       "      <td>105000.000000</td>\n",
       "    </tr>\n",
       "  </tbody>\n",
       "</table>\n",
       "</div>"
      ],
      "text/plain": [
       "       child_mort     exports      health     imports         income  \\\n",
       "count  167.000000  167.000000  167.000000  167.000000     167.000000   \n",
       "mean    38.270060   41.108976    6.815689   46.890215   17144.688623   \n",
       "std     40.328931   27.412010    2.746837   24.209589   19278.067698   \n",
       "min      2.600000    0.109000    1.810000    0.065900     609.000000   \n",
       "25%      8.250000   23.800000    4.920000   30.200000    3355.000000   \n",
       "50%     19.300000   35.000000    6.320000   43.300000    9960.000000   \n",
       "75%     62.100000   51.350000    8.600000   58.750000   22800.000000   \n",
       "max    208.000000  200.000000   17.900000  174.000000  125000.000000   \n",
       "\n",
       "        inflation  life_expec   total_fer           gdpp  \n",
       "count  167.000000  167.000000  167.000000     167.000000  \n",
       "mean     7.781832   70.555689    2.947964   12964.155689  \n",
       "std     10.570704    8.893172    1.513848   18328.704809  \n",
       "min     -4.210000   32.100000    1.150000     231.000000  \n",
       "25%      1.810000   65.300000    1.795000    1330.000000  \n",
       "50%      5.390000   73.100000    2.410000    4660.000000  \n",
       "75%     10.750000   76.800000    3.880000   14050.000000  \n",
       "max    104.000000   82.800000    7.490000  105000.000000  "
      ]
     },
     "execution_count": 6,
     "metadata": {},
     "output_type": "execute_result"
    }
   ],
   "source": [
    "#Describe function showing the initial statistics of the columns\n",
    "country_df.describe()"
   ]
  },
  {
   "cell_type": "markdown",
   "metadata": {},
   "source": [
    "<font color = green> The above statistics shows that the features such as ``health,total_fer`` are in comparable range where as ``income,gdpp`` varies around a wide range. This confirms the need for scaling of our dataset. Also other important point we can come across here is for the inflation feature. The minimum value for inflation is -4.21. Infact this is the only feature in our dataset with negative minimum value. "
   ]
  },
  {
   "cell_type": "markdown",
   "metadata": {},
   "source": [
    "#### Checking for NULLs"
   ]
  },
  {
   "cell_type": "code",
   "execution_count": 7,
   "metadata": {},
   "outputs": [
    {
     "data": {
      "text/plain": [
       "country       0\n",
       "child_mort    0\n",
       "exports       0\n",
       "health        0\n",
       "imports       0\n",
       "income        0\n",
       "inflation     0\n",
       "life_expec    0\n",
       "total_fer     0\n",
       "gdpp          0\n",
       "dtype: int64"
      ]
     },
     "execution_count": 7,
     "metadata": {},
     "output_type": "execute_result"
    }
   ],
   "source": [
    "#checking for null values again in our dataframe.\n",
    "country_df.isnull().sum()"
   ]
  },
  {
   "cell_type": "markdown",
   "metadata": {},
   "source": [
    "#### Checking for Outliers"
   ]
  },
  {
   "cell_type": "code",
   "execution_count": 8,
   "metadata": {},
   "outputs": [],
   "source": [
    "# Checking for outliers in the continuous variables\n",
    "num_country_df = country_df[['child_mort','exports','health','imports','income','inflation','life_expec','total_fer','gdpp']]"
   ]
  },
  {
   "cell_type": "code",
   "execution_count": 9,
   "metadata": {},
   "outputs": [
    {
     "data": {
      "text/html": [
       "<div>\n",
       "<style scoped>\n",
       "    .dataframe tbody tr th:only-of-type {\n",
       "        vertical-align: middle;\n",
       "    }\n",
       "\n",
       "    .dataframe tbody tr th {\n",
       "        vertical-align: top;\n",
       "    }\n",
       "\n",
       "    .dataframe thead th {\n",
       "        text-align: right;\n",
       "    }\n",
       "</style>\n",
       "<table border=\"1\" class=\"dataframe\">\n",
       "  <thead>\n",
       "    <tr style=\"text-align: right;\">\n",
       "      <th></th>\n",
       "      <th>child_mort</th>\n",
       "      <th>exports</th>\n",
       "      <th>health</th>\n",
       "      <th>imports</th>\n",
       "      <th>income</th>\n",
       "      <th>inflation</th>\n",
       "      <th>life_expec</th>\n",
       "      <th>total_fer</th>\n",
       "      <th>gdpp</th>\n",
       "    </tr>\n",
       "  </thead>\n",
       "  <tbody>\n",
       "    <tr>\n",
       "      <th>count</th>\n",
       "      <td>167.000000</td>\n",
       "      <td>167.000000</td>\n",
       "      <td>167.000000</td>\n",
       "      <td>167.000000</td>\n",
       "      <td>167.000000</td>\n",
       "      <td>167.000000</td>\n",
       "      <td>167.000000</td>\n",
       "      <td>167.000000</td>\n",
       "      <td>167.000000</td>\n",
       "    </tr>\n",
       "    <tr>\n",
       "      <th>mean</th>\n",
       "      <td>38.270060</td>\n",
       "      <td>41.108976</td>\n",
       "      <td>6.815689</td>\n",
       "      <td>46.890215</td>\n",
       "      <td>17144.688623</td>\n",
       "      <td>7.781832</td>\n",
       "      <td>70.555689</td>\n",
       "      <td>2.947964</td>\n",
       "      <td>12964.155689</td>\n",
       "    </tr>\n",
       "    <tr>\n",
       "      <th>std</th>\n",
       "      <td>40.328931</td>\n",
       "      <td>27.412010</td>\n",
       "      <td>2.746837</td>\n",
       "      <td>24.209589</td>\n",
       "      <td>19278.067698</td>\n",
       "      <td>10.570704</td>\n",
       "      <td>8.893172</td>\n",
       "      <td>1.513848</td>\n",
       "      <td>18328.704809</td>\n",
       "    </tr>\n",
       "    <tr>\n",
       "      <th>min</th>\n",
       "      <td>2.600000</td>\n",
       "      <td>0.109000</td>\n",
       "      <td>1.810000</td>\n",
       "      <td>0.065900</td>\n",
       "      <td>609.000000</td>\n",
       "      <td>-4.210000</td>\n",
       "      <td>32.100000</td>\n",
       "      <td>1.150000</td>\n",
       "      <td>231.000000</td>\n",
       "    </tr>\n",
       "    <tr>\n",
       "      <th>25%</th>\n",
       "      <td>8.250000</td>\n",
       "      <td>23.800000</td>\n",
       "      <td>4.920000</td>\n",
       "      <td>30.200000</td>\n",
       "      <td>3355.000000</td>\n",
       "      <td>1.810000</td>\n",
       "      <td>65.300000</td>\n",
       "      <td>1.795000</td>\n",
       "      <td>1330.000000</td>\n",
       "    </tr>\n",
       "    <tr>\n",
       "      <th>50%</th>\n",
       "      <td>19.300000</td>\n",
       "      <td>35.000000</td>\n",
       "      <td>6.320000</td>\n",
       "      <td>43.300000</td>\n",
       "      <td>9960.000000</td>\n",
       "      <td>5.390000</td>\n",
       "      <td>73.100000</td>\n",
       "      <td>2.410000</td>\n",
       "      <td>4660.000000</td>\n",
       "    </tr>\n",
       "    <tr>\n",
       "      <th>75%</th>\n",
       "      <td>62.100000</td>\n",
       "      <td>51.350000</td>\n",
       "      <td>8.600000</td>\n",
       "      <td>58.750000</td>\n",
       "      <td>22800.000000</td>\n",
       "      <td>10.750000</td>\n",
       "      <td>76.800000</td>\n",
       "      <td>3.880000</td>\n",
       "      <td>14050.000000</td>\n",
       "    </tr>\n",
       "    <tr>\n",
       "      <th>90%</th>\n",
       "      <td>100.220000</td>\n",
       "      <td>70.800000</td>\n",
       "      <td>10.940000</td>\n",
       "      <td>75.420000</td>\n",
       "      <td>41220.000000</td>\n",
       "      <td>16.640000</td>\n",
       "      <td>80.400000</td>\n",
       "      <td>5.322000</td>\n",
       "      <td>41840.000000</td>\n",
       "    </tr>\n",
       "    <tr>\n",
       "      <th>95%</th>\n",
       "      <td>116.000000</td>\n",
       "      <td>80.570000</td>\n",
       "      <td>11.570000</td>\n",
       "      <td>81.140000</td>\n",
       "      <td>48290.000000</td>\n",
       "      <td>20.870000</td>\n",
       "      <td>81.400000</td>\n",
       "      <td>5.861000</td>\n",
       "      <td>48610.000000</td>\n",
       "    </tr>\n",
       "    <tr>\n",
       "      <th>99%</th>\n",
       "      <td>153.400000</td>\n",
       "      <td>160.480000</td>\n",
       "      <td>13.474000</td>\n",
       "      <td>146.080000</td>\n",
       "      <td>84374.000000</td>\n",
       "      <td>41.478000</td>\n",
       "      <td>82.370000</td>\n",
       "      <td>6.563600</td>\n",
       "      <td>79088.000000</td>\n",
       "    </tr>\n",
       "    <tr>\n",
       "      <th>max</th>\n",
       "      <td>208.000000</td>\n",
       "      <td>200.000000</td>\n",
       "      <td>17.900000</td>\n",
       "      <td>174.000000</td>\n",
       "      <td>125000.000000</td>\n",
       "      <td>104.000000</td>\n",
       "      <td>82.800000</td>\n",
       "      <td>7.490000</td>\n",
       "      <td>105000.000000</td>\n",
       "    </tr>\n",
       "  </tbody>\n",
       "</table>\n",
       "</div>"
      ],
      "text/plain": [
       "       child_mort     exports      health     imports         income  \\\n",
       "count  167.000000  167.000000  167.000000  167.000000     167.000000   \n",
       "mean    38.270060   41.108976    6.815689   46.890215   17144.688623   \n",
       "std     40.328931   27.412010    2.746837   24.209589   19278.067698   \n",
       "min      2.600000    0.109000    1.810000    0.065900     609.000000   \n",
       "25%      8.250000   23.800000    4.920000   30.200000    3355.000000   \n",
       "50%     19.300000   35.000000    6.320000   43.300000    9960.000000   \n",
       "75%     62.100000   51.350000    8.600000   58.750000   22800.000000   \n",
       "90%    100.220000   70.800000   10.940000   75.420000   41220.000000   \n",
       "95%    116.000000   80.570000   11.570000   81.140000   48290.000000   \n",
       "99%    153.400000  160.480000   13.474000  146.080000   84374.000000   \n",
       "max    208.000000  200.000000   17.900000  174.000000  125000.000000   \n",
       "\n",
       "        inflation  life_expec   total_fer           gdpp  \n",
       "count  167.000000  167.000000  167.000000     167.000000  \n",
       "mean     7.781832   70.555689    2.947964   12964.155689  \n",
       "std     10.570704    8.893172    1.513848   18328.704809  \n",
       "min     -4.210000   32.100000    1.150000     231.000000  \n",
       "25%      1.810000   65.300000    1.795000    1330.000000  \n",
       "50%      5.390000   73.100000    2.410000    4660.000000  \n",
       "75%     10.750000   76.800000    3.880000   14050.000000  \n",
       "90%     16.640000   80.400000    5.322000   41840.000000  \n",
       "95%     20.870000   81.400000    5.861000   48610.000000  \n",
       "99%     41.478000   82.370000    6.563600   79088.000000  \n",
       "max    104.000000   82.800000    7.490000  105000.000000  "
      ]
     },
     "execution_count": 9,
     "metadata": {},
     "output_type": "execute_result"
    }
   ],
   "source": [
    "# Checking Outliers at 25%,50%,75%,90%,95% and 99%\n",
    "num_country_df.describe(percentiles=[.25,.5,.75,.90,.95,.99])"
   ]
  },
  {
   "cell_type": "markdown",
   "metadata": {},
   "source": [
    "<font color = green> From the distribution above, it is clear that there are outliers present for many features such as child_mort,income,inflation,exports since the numbers are not gradually increasing.\n",
    "Anyway we will take it forward, do our PCA and then see for outliers again there."
   ]
  },
  {
   "cell_type": "markdown",
   "metadata": {},
   "source": [
    "#### Correlation matrix"
   ]
  },
  {
   "cell_type": "code",
   "execution_count": 10,
   "metadata": {},
   "outputs": [
    {
     "data": {
      "image/png": "[encoded data removed]",
      "text/plain": [
       "<Figure size 504x360 with 2 Axes>"
      ]
     },
     "metadata": {
      "needs_background": "light"
     },
     "output_type": "display_data"
    }
   ],
   "source": [
    "plt.figure(figsize=(7,5))\n",
    "heat_map = sns.heatmap(country_df.corr(),annot=True,cmap=\"Blues\")\n",
    "heat_map.set_xticklabels(heat_map.get_xticklabels(), rotation=45)\n",
    "plt.show()"
   ]
  },
  {
   "cell_type": "markdown",
   "metadata": {},
   "source": [
    "<font color = green> Initial check of the correlation matrix with the above heatmap displays that there is high correlation of 0.85 between `child mortality and total fer` and value of 0.9 between `income and gdpp` which is obvious one. \n",
    "Also we can see high negative correlation between `life expectancy and child mortality as well `life expectancy and total_fer` which are also obvious understandings."
   ]
  },
  {
   "cell_type": "markdown",
   "metadata": {},
   "source": [
    "#### Data Preparation"
   ]
  },
  {
   "cell_type": "markdown",
   "metadata": {},
   "source": [
    "<font color = green> From data dictionary, we can see that the columns `exports,imports and health` are given as percentage of Total GDP. We can convert this columns from percentage value to normal range."
   ]
  },
  {
   "cell_type": "code",
   "execution_count": 11,
   "metadata": {},
   "outputs": [],
   "source": [
    "country_df['exports'] = (country_df['exports'] * country_df['gdpp'])/100\n",
    "country_df['imports'] = (country_df['imports'] * country_df['gdpp'])/100\n",
    "country_df['health'] = (country_df['health'] * country_df['gdpp'])/100"
   ]
  },
  {
   "cell_type": "code",
   "execution_count": 12,
   "metadata": {},
   "outputs": [
    {
     "data": {
      "text/html": [
       "<div>\n",
       "<style scoped>\n",
       "    .dataframe tbody tr th:only-of-type {\n",
       "        vertical-align: middle;\n",
       "    }\n",
       "\n",
       "    .dataframe tbody tr th {\n",
       "        vertical-align: top;\n",
       "    }\n",
       "\n",
       "    .dataframe thead th {\n",
       "        text-align: right;\n",
       "    }\n",
       "</style>\n",
       "<table border=\"1\" class=\"dataframe\">\n",
       "  <thead>\n",
       "    <tr style=\"text-align: right;\">\n",
       "      <th></th>\n",
       "      <th>country</th>\n",
       "      <th>child_mort</th>\n",
       "      <th>exports</th>\n",
       "      <th>health</th>\n",
       "      <th>imports</th>\n",
       "      <th>income</th>\n",
       "      <th>inflation</th>\n",
       "      <th>life_expec</th>\n",
       "      <th>total_fer</th>\n",
       "      <th>gdpp</th>\n",
       "    </tr>\n",
       "  </thead>\n",
       "  <tbody>\n",
       "    <tr>\n",
       "      <th>0</th>\n",
       "      <td>Afghanistan</td>\n",
       "      <td>90.2</td>\n",
       "      <td>55.30</td>\n",
       "      <td>41.9174</td>\n",
       "      <td>248.297</td>\n",
       "      <td>1610</td>\n",
       "      <td>9.44</td>\n",
       "      <td>56.2</td>\n",
       "      <td>5.82</td>\n",
       "      <td>553</td>\n",
       "    </tr>\n",
       "    <tr>\n",
       "      <th>1</th>\n",
       "      <td>Albania</td>\n",
       "      <td>16.6</td>\n",
       "      <td>1145.20</td>\n",
       "      <td>267.8950</td>\n",
       "      <td>1987.740</td>\n",
       "      <td>9930</td>\n",
       "      <td>4.49</td>\n",
       "      <td>76.3</td>\n",
       "      <td>1.65</td>\n",
       "      <td>4090</td>\n",
       "    </tr>\n",
       "    <tr>\n",
       "      <th>2</th>\n",
       "      <td>Algeria</td>\n",
       "      <td>27.3</td>\n",
       "      <td>1712.64</td>\n",
       "      <td>185.9820</td>\n",
       "      <td>1400.440</td>\n",
       "      <td>12900</td>\n",
       "      <td>16.10</td>\n",
       "      <td>76.5</td>\n",
       "      <td>2.89</td>\n",
       "      <td>4460</td>\n",
       "    </tr>\n",
       "    <tr>\n",
       "      <th>3</th>\n",
       "      <td>Angola</td>\n",
       "      <td>119.0</td>\n",
       "      <td>2199.19</td>\n",
       "      <td>100.6050</td>\n",
       "      <td>1514.370</td>\n",
       "      <td>5900</td>\n",
       "      <td>22.40</td>\n",
       "      <td>60.1</td>\n",
       "      <td>6.16</td>\n",
       "      <td>3530</td>\n",
       "    </tr>\n",
       "    <tr>\n",
       "      <th>4</th>\n",
       "      <td>Antigua and Barbuda</td>\n",
       "      <td>10.3</td>\n",
       "      <td>5551.00</td>\n",
       "      <td>735.6600</td>\n",
       "      <td>7185.800</td>\n",
       "      <td>19100</td>\n",
       "      <td>1.44</td>\n",
       "      <td>76.8</td>\n",
       "      <td>2.13</td>\n",
       "      <td>12200</td>\n",
       "    </tr>\n",
       "  </tbody>\n",
       "</table>\n",
       "</div>"
      ],
      "text/plain": [
       "               country  child_mort  exports    health   imports  income  \\\n",
       "0          Afghanistan        90.2    55.30   41.9174   248.297    1610   \n",
       "1              Albania        16.6  1145.20  267.8950  1987.740    9930   \n",
       "2              Algeria        27.3  1712.64  185.9820  1400.440   12900   \n",
       "3               Angola       119.0  2199.19  100.6050  1514.370    5900   \n",
       "4  Antigua and Barbuda        10.3  5551.00  735.6600  7185.800   19100   \n",
       "\n",
       "   inflation  life_expec  total_fer   gdpp  \n",
       "0       9.44        56.2       5.82    553  \n",
       "1       4.49        76.3       1.65   4090  \n",
       "2      16.10        76.5       2.89   4460  \n",
       "3      22.40        60.1       6.16   3530  \n",
       "4       1.44        76.8       2.13  12200  "
      ]
     },
     "execution_count": 12,
     "metadata": {},
     "output_type": "execute_result"
    }
   ],
   "source": [
    "country_df.head()"
   ]
  },
  {
   "cell_type": "code",
   "execution_count": 13,
   "metadata": {},
   "outputs": [
    {
     "data": {
      "text/html": [
       "<div>\n",
       "<style scoped>\n",
       "    .dataframe tbody tr th:only-of-type {\n",
       "        vertical-align: middle;\n",
       "    }\n",
       "\n",
       "    .dataframe tbody tr th {\n",
       "        vertical-align: top;\n",
       "    }\n",
       "\n",
       "    .dataframe thead th {\n",
       "        text-align: right;\n",
       "    }\n",
       "</style>\n",
       "<table border=\"1\" class=\"dataframe\">\n",
       "  <thead>\n",
       "    <tr style=\"text-align: right;\">\n",
       "      <th></th>\n",
       "      <th>child_mort</th>\n",
       "      <th>exports</th>\n",
       "      <th>health</th>\n",
       "      <th>imports</th>\n",
       "      <th>income</th>\n",
       "      <th>inflation</th>\n",
       "      <th>life_expec</th>\n",
       "      <th>total_fer</th>\n",
       "      <th>gdpp</th>\n",
       "    </tr>\n",
       "  </thead>\n",
       "  <tbody>\n",
       "    <tr>\n",
       "      <th>count</th>\n",
       "      <td>167.000000</td>\n",
       "      <td>167.000000</td>\n",
       "      <td>167.000000</td>\n",
       "      <td>167.000000</td>\n",
       "      <td>167.000000</td>\n",
       "      <td>167.000000</td>\n",
       "      <td>167.000000</td>\n",
       "      <td>167.000000</td>\n",
       "      <td>167.000000</td>\n",
       "    </tr>\n",
       "    <tr>\n",
       "      <th>mean</th>\n",
       "      <td>38.270060</td>\n",
       "      <td>7420.618847</td>\n",
       "      <td>1056.733204</td>\n",
       "      <td>6588.352108</td>\n",
       "      <td>17144.688623</td>\n",
       "      <td>7.781832</td>\n",
       "      <td>70.555689</td>\n",
       "      <td>2.947964</td>\n",
       "      <td>12964.155689</td>\n",
       "    </tr>\n",
       "    <tr>\n",
       "      <th>std</th>\n",
       "      <td>40.328931</td>\n",
       "      <td>17973.885795</td>\n",
       "      <td>1801.408906</td>\n",
       "      <td>14710.810418</td>\n",
       "      <td>19278.067698</td>\n",
       "      <td>10.570704</td>\n",
       "      <td>8.893172</td>\n",
       "      <td>1.513848</td>\n",
       "      <td>18328.704809</td>\n",
       "    </tr>\n",
       "    <tr>\n",
       "      <th>min</th>\n",
       "      <td>2.600000</td>\n",
       "      <td>1.076920</td>\n",
       "      <td>12.821200</td>\n",
       "      <td>0.651092</td>\n",
       "      <td>609.000000</td>\n",
       "      <td>-4.210000</td>\n",
       "      <td>32.100000</td>\n",
       "      <td>1.150000</td>\n",
       "      <td>231.000000</td>\n",
       "    </tr>\n",
       "    <tr>\n",
       "      <th>25%</th>\n",
       "      <td>8.250000</td>\n",
       "      <td>447.140000</td>\n",
       "      <td>78.535500</td>\n",
       "      <td>640.215000</td>\n",
       "      <td>3355.000000</td>\n",
       "      <td>1.810000</td>\n",
       "      <td>65.300000</td>\n",
       "      <td>1.795000</td>\n",
       "      <td>1330.000000</td>\n",
       "    </tr>\n",
       "    <tr>\n",
       "      <th>50%</th>\n",
       "      <td>19.300000</td>\n",
       "      <td>1777.440000</td>\n",
       "      <td>321.886000</td>\n",
       "      <td>2045.580000</td>\n",
       "      <td>9960.000000</td>\n",
       "      <td>5.390000</td>\n",
       "      <td>73.100000</td>\n",
       "      <td>2.410000</td>\n",
       "      <td>4660.000000</td>\n",
       "    </tr>\n",
       "    <tr>\n",
       "      <th>75%</th>\n",
       "      <td>62.100000</td>\n",
       "      <td>7278.000000</td>\n",
       "      <td>976.940000</td>\n",
       "      <td>7719.600000</td>\n",
       "      <td>22800.000000</td>\n",
       "      <td>10.750000</td>\n",
       "      <td>76.800000</td>\n",
       "      <td>3.880000</td>\n",
       "      <td>14050.000000</td>\n",
       "    </tr>\n",
       "    <tr>\n",
       "      <th>max</th>\n",
       "      <td>208.000000</td>\n",
       "      <td>183750.000000</td>\n",
       "      <td>8663.600000</td>\n",
       "      <td>149100.000000</td>\n",
       "      <td>125000.000000</td>\n",
       "      <td>104.000000</td>\n",
       "      <td>82.800000</td>\n",
       "      <td>7.490000</td>\n",
       "      <td>105000.000000</td>\n",
       "    </tr>\n",
       "  </tbody>\n",
       "</table>\n",
       "</div>"
      ],
      "text/plain": [
       "       child_mort        exports       health        imports         income  \\\n",
       "count  167.000000     167.000000   167.000000     167.000000     167.000000   \n",
       "mean    38.270060    7420.618847  1056.733204    6588.352108   17144.688623   \n",
       "std     40.328931   17973.885795  1801.408906   14710.810418   19278.067698   \n",
       "min      2.600000       1.076920    12.821200       0.651092     609.000000   \n",
       "25%      8.250000     447.140000    78.535500     640.215000    3355.000000   \n",
       "50%     19.300000    1777.440000   321.886000    2045.580000    9960.000000   \n",
       "75%     62.100000    7278.000000   976.940000    7719.600000   22800.000000   \n",
       "max    208.000000  183750.000000  8663.600000  149100.000000  125000.000000   \n",
       "\n",
       "        inflation  life_expec   total_fer           gdpp  \n",
       "count  167.000000  167.000000  167.000000     167.000000  \n",
       "mean     7.781832   70.555689    2.947964   12964.155689  \n",
       "std     10.570704    8.893172    1.513848   18328.704809  \n",
       "min     -4.210000   32.100000    1.150000     231.000000  \n",
       "25%      1.810000   65.300000    1.795000    1330.000000  \n",
       "50%      5.390000   73.100000    2.410000    4660.000000  \n",
       "75%     10.750000   76.800000    3.880000   14050.000000  \n",
       "max    104.000000   82.800000    7.490000  105000.000000  "
      ]
     },
     "execution_count": 13,
     "metadata": {},
     "output_type": "execute_result"
    }
   ],
   "source": [
    "#We look into statistics after the above conversion\n",
    "country_df.describe()"
   ]
  },
  {
   "cell_type": "code",
   "execution_count": 14,
   "metadata": {},
   "outputs": [
    {
     "data": {
      "text/plain": [
       "(167, 9)"
      ]
     },
     "execution_count": 14,
     "metadata": {},
     "output_type": "execute_result"
    }
   ],
   "source": [
    "#Rescaling\n",
    "country_df_to_be_scaled = country_df[['child_mort','exports','health','imports','income','inflation','life_expec','total_fer','gdpp']]\n",
    "\n",
    "# Instantiate\n",
    "scaler = StandardScaler()\n",
    "\n",
    "# Fit_transform\n",
    "country_df_scaled = scaler.fit_transform(country_df_to_be_scaled)\n",
    "country_df_scaled.shape"
   ]
  },
  {
   "cell_type": "code",
   "execution_count": 15,
   "metadata": {},
   "outputs": [],
   "source": [
    "#After the above rescaling we can see that the dataset is nd array and needs to be converted back to original form.\n",
    "country_df_scaled = pd.DataFrame(country_df_scaled)\n",
    "country_df_scaled.columns = ['child_mort','exports','health','imports','income','inflation','life_expec','total_fer','gdpp']"
   ]
  },
  {
   "cell_type": "code",
   "execution_count": 16,
   "metadata": {},
   "outputs": [
    {
     "data": {
      "text/html": [
       "<div>\n",
       "<style scoped>\n",
       "    .dataframe tbody tr th:only-of-type {\n",
       "        vertical-align: middle;\n",
       "    }\n",
       "\n",
       "    .dataframe tbody tr th {\n",
       "        vertical-align: top;\n",
       "    }\n",
       "\n",
       "    .dataframe thead th {\n",
       "        text-align: right;\n",
       "    }\n",
       "</style>\n",
       "<table border=\"1\" class=\"dataframe\">\n",
       "  <thead>\n",
       "    <tr style=\"text-align: right;\">\n",
       "      <th></th>\n",
       "      <th>child_mort</th>\n",
       "      <th>exports</th>\n",
       "      <th>health</th>\n",
       "      <th>imports</th>\n",
       "      <th>income</th>\n",
       "      <th>inflation</th>\n",
       "      <th>life_expec</th>\n",
       "      <th>total_fer</th>\n",
       "      <th>gdpp</th>\n",
       "    </tr>\n",
       "  </thead>\n",
       "  <tbody>\n",
       "    <tr>\n",
       "      <th>0</th>\n",
       "      <td>1.291532</td>\n",
       "      <td>-0.411011</td>\n",
       "      <td>-0.565040</td>\n",
       "      <td>-0.432276</td>\n",
       "      <td>-0.808245</td>\n",
       "      <td>0.157336</td>\n",
       "      <td>-1.619092</td>\n",
       "      <td>1.902882</td>\n",
       "      <td>-0.679180</td>\n",
       "    </tr>\n",
       "    <tr>\n",
       "      <th>1</th>\n",
       "      <td>-0.538949</td>\n",
       "      <td>-0.350191</td>\n",
       "      <td>-0.439218</td>\n",
       "      <td>-0.313677</td>\n",
       "      <td>-0.375369</td>\n",
       "      <td>-0.312347</td>\n",
       "      <td>0.647866</td>\n",
       "      <td>-0.859973</td>\n",
       "      <td>-0.485623</td>\n",
       "    </tr>\n",
       "    <tr>\n",
       "      <th>2</th>\n",
       "      <td>-0.272833</td>\n",
       "      <td>-0.318526</td>\n",
       "      <td>-0.484826</td>\n",
       "      <td>-0.353720</td>\n",
       "      <td>-0.220844</td>\n",
       "      <td>0.789274</td>\n",
       "      <td>0.670423</td>\n",
       "      <td>-0.038404</td>\n",
       "      <td>-0.465376</td>\n",
       "    </tr>\n",
       "    <tr>\n",
       "      <th>3</th>\n",
       "      <td>2.007808</td>\n",
       "      <td>-0.291375</td>\n",
       "      <td>-0.532363</td>\n",
       "      <td>-0.345953</td>\n",
       "      <td>-0.585043</td>\n",
       "      <td>1.387054</td>\n",
       "      <td>-1.179234</td>\n",
       "      <td>2.128151</td>\n",
       "      <td>-0.516268</td>\n",
       "    </tr>\n",
       "    <tr>\n",
       "      <th>4</th>\n",
       "      <td>-0.695634</td>\n",
       "      <td>-0.104331</td>\n",
       "      <td>-0.178771</td>\n",
       "      <td>0.040735</td>\n",
       "      <td>0.101732</td>\n",
       "      <td>-0.601749</td>\n",
       "      <td>0.704258</td>\n",
       "      <td>-0.541946</td>\n",
       "      <td>-0.041817</td>\n",
       "    </tr>\n",
       "  </tbody>\n",
       "</table>\n",
       "</div>"
      ],
      "text/plain": [
       "   child_mort   exports    health   imports    income  inflation  life_expec  \\\n",
       "0    1.291532 -0.411011 -0.565040 -0.432276 -0.808245   0.157336   -1.619092   \n",
       "1   -0.538949 -0.350191 -0.439218 -0.313677 -0.375369  -0.312347    0.647866   \n",
       "2   -0.272833 -0.318526 -0.484826 -0.353720 -0.220844   0.789274    0.670423   \n",
       "3    2.007808 -0.291375 -0.532363 -0.345953 -0.585043   1.387054   -1.179234   \n",
       "4   -0.695634 -0.104331 -0.178771  0.040735  0.101732  -0.601749    0.704258   \n",
       "\n",
       "   total_fer      gdpp  \n",
       "0   1.902882 -0.679180  \n",
       "1  -0.859973 -0.485623  \n",
       "2  -0.038404 -0.465376  \n",
       "3   2.128151 -0.516268  \n",
       "4  -0.541946 -0.041817  "
      ]
     },
     "execution_count": 16,
     "metadata": {},
     "output_type": "execute_result"
    }
   ],
   "source": [
    "country_df_scaled.head()"
   ]
  },
  {
   "cell_type": "markdown",
   "metadata": {},
   "source": [
    "#### PCA on the dataset"
   ]
  },
  {
   "cell_type": "code",
   "execution_count": 17,
   "metadata": {},
   "outputs": [],
   "source": [
    "#Importing th PCA module and using the random state of 42\n",
    "from sklearn.decomposition import PCA\n",
    "pca = PCA(svd_solver='randomized',random_state=42)"
   ]
  },
  {
   "cell_type": "code",
   "execution_count": 18,
   "metadata": {},
   "outputs": [
    {
     "data": {
      "text/plain": [
       "PCA(copy=True, iterated_power='auto', n_components=None, random_state=42,\n",
       "  svd_solver='randomized', tol=0.0, whiten=False)"
      ]
     },
     "execution_count": 18,
     "metadata": {},
     "output_type": "execute_result"
    }
   ],
   "source": [
    "#Performing the PCA on ourr scaled dataframe\n",
    "pca.fit(country_df_scaled)"
   ]
  },
  {
   "cell_type": "code",
   "execution_count": 19,
   "metadata": {},
   "outputs": [
    {
     "data": {
      "text/plain": [
       "array([[-0.31639186,  0.34288671,  0.358535  ,  0.34486492,  0.38004113,\n",
       "        -0.14308531,  0.34385651, -0.30284224,  0.39998795],\n",
       "       [ 0.47626735,  0.39731091,  0.1550529 ,  0.37078075,  0.12838448,\n",
       "         0.22126089, -0.36981973,  0.4597152 ,  0.2006241 ],\n",
       "       [-0.15001225, -0.03057367, -0.07570322, -0.07217386,  0.14576421,\n",
       "         0.94841868,  0.19675173, -0.07783431,  0.01033941],\n",
       "       [-0.14805195,  0.44942527, -0.59971228,  0.46179779, -0.15480592,\n",
       "        -0.00762798, -0.01839465, -0.21392805, -0.36477239],\n",
       "       [ 0.1019948 , -0.03853829, -0.49319984, -0.2527867 ,  0.79407469,\n",
       "        -0.13642345, -0.15404105, -0.02033568,  0.08750149],\n",
       "       [ 0.19658519, -0.03891112,  0.18069888, -0.01217988, -0.03814681,\n",
       "         0.10840284, -0.58600986, -0.75390075,  0.04538167],\n",
       "       [ 0.76126725, -0.01366973, -0.06461567,  0.02718244, -0.02311312,\n",
       "        -0.02207663,  0.58120846, -0.27314534, -0.04402264],\n",
       "       [ 0.00644411, -0.05526371,  0.43007213,  0.1311355 ,  0.3938113 ,\n",
       "        -0.00607016,  0.002966  ,  0.03429334, -0.79902242],\n",
       "       [-0.00495137, -0.71792388, -0.13034593,  0.66568664,  0.07901102,\n",
       "         0.01128137, -0.03159406,  0.02368185,  0.12846398]])"
      ]
     },
     "execution_count": 19,
     "metadata": {},
     "output_type": "execute_result"
    }
   ],
   "source": [
    "#List of PCA components\n",
    "pca.components_"
   ]
  },
  {
   "cell_type": "markdown",
   "metadata": {},
   "source": [
    "<font color = green> After observing the pca components as above, we could find that there are 9 components formed listed as numpy arrays corresponding to our 9 feature varaibles existing in the original dataset."
   ]
  },
  {
   "cell_type": "markdown",
   "metadata": {},
   "source": [
    "##### _Now we will see how much of the total variance is explained by each of the principal components and hence make a call, how many PC's to be taken and proceeded to clustering._"
   ]
  },
  {
   "cell_type": "code",
   "execution_count": 20,
   "metadata": {},
   "outputs": [
    {
     "data": {
      "text/plain": [
       "array([0.59, 0.18, 0.1 , 0.06, 0.03, 0.02, 0.01, 0.  , 0.  ])"
      ]
     },
     "execution_count": 20,
     "metadata": {},
     "output_type": "execute_result"
    }
   ],
   "source": [
    "#Explained variance ratio\n",
    "pca.explained_variance_ratio_.round(2)"
   ]
  },
  {
   "cell_type": "markdown",
   "metadata": {},
   "source": [
    "<font color = green> The `explained_varaiance_ratio_ gives out the amount of variance explained by each principal components. If we see the above list, we can see that about 59% of variance is explained by the first component alone, second PC explains about 18%, third 10% and so on. <br> \n",
    "<font color = red> *_Depending on how much percentage of variance should be explained by our model, we can take a final call for PCs for our model._*"
   ]
  },
  {
   "cell_type": "code",
   "execution_count": 21,
   "metadata": {},
   "outputs": [
    {
     "data": {
      "image/png": "[encoded data removed]",
      "text/plain": [
       "<Figure size 432x288 with 1 Axes>"
      ]
     },
     "metadata": {
      "needs_background": "light"
     },
     "output_type": "display_data"
    }
   ],
   "source": [
    "#Plotting the screeplot\n",
    "%matplotlib inline\n",
    "plt.figure(figsize=(6,4))\n",
    "plt.plot(np.cumsum(pca.explained_variance_ratio_))\n",
    "plt.ylim([0.55,1.0])\n",
    "plt.xlabel('Number of components')\n",
    "plt.ylabel('Cumulative explained variance')\n",
    "plt.show()"
   ]
  },
  {
   "cell_type": "markdown",
   "metadata": {},
   "source": [
    "<font color = green> From the above Screeplot we can find that around 96% of the variance is explained by 5 components."
   ]
  },
  {
   "cell_type": "code",
   "execution_count": 22,
   "metadata": {},
   "outputs": [],
   "source": [
    "#We can understand now how the original variables are loaded on the principal components\n",
    "cols = list(country_df_scaled.columns)\n",
    "pca_df = pd.DataFrame({'Feature':cols,'PC1': pca.components_[0],'PC2': pca.components_[1],'PC3': pca.components_[2],'PC4': pca.components_[3],'PC5': pca.components_[4]})"
   ]
  },
  {
   "cell_type": "code",
   "execution_count": 23,
   "metadata": {},
   "outputs": [
    {
     "data": {
      "text/html": [
       "<div>\n",
       "<style scoped>\n",
       "    .dataframe tbody tr th:only-of-type {\n",
       "        vertical-align: middle;\n",
       "    }\n",
       "\n",
       "    .dataframe tbody tr th {\n",
       "        vertical-align: top;\n",
       "    }\n",
       "\n",
       "    .dataframe thead th {\n",
       "        text-align: right;\n",
       "    }\n",
       "</style>\n",
       "<table border=\"1\" class=\"dataframe\">\n",
       "  <thead>\n",
       "    <tr style=\"text-align: right;\">\n",
       "      <th></th>\n",
       "      <th>Feature</th>\n",
       "      <th>PC1</th>\n",
       "      <th>PC2</th>\n",
       "      <th>PC3</th>\n",
       "      <th>PC4</th>\n",
       "      <th>PC5</th>\n",
       "    </tr>\n",
       "  </thead>\n",
       "  <tbody>\n",
       "    <tr>\n",
       "      <th>0</th>\n",
       "      <td>child_mort</td>\n",
       "      <td>-0.316392</td>\n",
       "      <td>0.476267</td>\n",
       "      <td>-0.150012</td>\n",
       "      <td>-0.148052</td>\n",
       "      <td>0.101995</td>\n",
       "    </tr>\n",
       "    <tr>\n",
       "      <th>1</th>\n",
       "      <td>exports</td>\n",
       "      <td>0.342887</td>\n",
       "      <td>0.397311</td>\n",
       "      <td>-0.030574</td>\n",
       "      <td>0.449425</td>\n",
       "      <td>-0.038538</td>\n",
       "    </tr>\n",
       "    <tr>\n",
       "      <th>2</th>\n",
       "      <td>health</td>\n",
       "      <td>0.358535</td>\n",
       "      <td>0.155053</td>\n",
       "      <td>-0.075703</td>\n",
       "      <td>-0.599712</td>\n",
       "      <td>-0.493200</td>\n",
       "    </tr>\n",
       "    <tr>\n",
       "      <th>3</th>\n",
       "      <td>imports</td>\n",
       "      <td>0.344865</td>\n",
       "      <td>0.370781</td>\n",
       "      <td>-0.072174</td>\n",
       "      <td>0.461798</td>\n",
       "      <td>-0.252787</td>\n",
       "    </tr>\n",
       "    <tr>\n",
       "      <th>4</th>\n",
       "      <td>income</td>\n",
       "      <td>0.380041</td>\n",
       "      <td>0.128384</td>\n",
       "      <td>0.145764</td>\n",
       "      <td>-0.154806</td>\n",
       "      <td>0.794075</td>\n",
       "    </tr>\n",
       "    <tr>\n",
       "      <th>5</th>\n",
       "      <td>inflation</td>\n",
       "      <td>-0.143085</td>\n",
       "      <td>0.221261</td>\n",
       "      <td>0.948419</td>\n",
       "      <td>-0.007628</td>\n",
       "      <td>-0.136423</td>\n",
       "    </tr>\n",
       "    <tr>\n",
       "      <th>6</th>\n",
       "      <td>life_expec</td>\n",
       "      <td>0.343857</td>\n",
       "      <td>-0.369820</td>\n",
       "      <td>0.196752</td>\n",
       "      <td>-0.018395</td>\n",
       "      <td>-0.154041</td>\n",
       "    </tr>\n",
       "    <tr>\n",
       "      <th>7</th>\n",
       "      <td>total_fer</td>\n",
       "      <td>-0.302842</td>\n",
       "      <td>0.459715</td>\n",
       "      <td>-0.077834</td>\n",
       "      <td>-0.213928</td>\n",
       "      <td>-0.020336</td>\n",
       "    </tr>\n",
       "    <tr>\n",
       "      <th>8</th>\n",
       "      <td>gdpp</td>\n",
       "      <td>0.399988</td>\n",
       "      <td>0.200624</td>\n",
       "      <td>0.010339</td>\n",
       "      <td>-0.364772</td>\n",
       "      <td>0.087501</td>\n",
       "    </tr>\n",
       "  </tbody>\n",
       "</table>\n",
       "</div>"
      ],
      "text/plain": [
       "      Feature       PC1       PC2       PC3       PC4       PC5\n",
       "0  child_mort -0.316392  0.476267 -0.150012 -0.148052  0.101995\n",
       "1     exports  0.342887  0.397311 -0.030574  0.449425 -0.038538\n",
       "2      health  0.358535  0.155053 -0.075703 -0.599712 -0.493200\n",
       "3     imports  0.344865  0.370781 -0.072174  0.461798 -0.252787\n",
       "4      income  0.380041  0.128384  0.145764 -0.154806  0.794075\n",
       "5   inflation -0.143085  0.221261  0.948419 -0.007628 -0.136423\n",
       "6  life_expec  0.343857 -0.369820  0.196752 -0.018395 -0.154041\n",
       "7   total_fer -0.302842  0.459715 -0.077834 -0.213928 -0.020336\n",
       "8        gdpp  0.399988  0.200624  0.010339 -0.364772  0.087501"
      ]
     },
     "execution_count": 23,
     "metadata": {},
     "output_type": "execute_result"
    }
   ],
   "source": [
    "pca_df"
   ]
  },
  {
   "cell_type": "code",
   "execution_count": 24,
   "metadata": {},
   "outputs": [],
   "source": [
    "#We can go do Dimensionality reduction by taking only 5 principal components\n",
    "from sklearn.decomposition import IncrementalPCA\n",
    "pca_final = IncrementalPCA(n_components = 5)"
   ]
  },
  {
   "cell_type": "code",
   "execution_count": 25,
   "metadata": {},
   "outputs": [
    {
     "data": {
      "text/plain": [
       "(167, 5)"
      ]
     },
     "execution_count": 25,
     "metadata": {},
     "output_type": "execute_result"
    }
   ],
   "source": [
    "country_df_pca = pca_final.fit_transform(country_df_scaled)\n",
    "country_df_pca.shape"
   ]
  },
  {
   "cell_type": "code",
   "execution_count": 26,
   "metadata": {},
   "outputs": [],
   "source": [
    "country_df_pca_final = np.transpose(country_df_pca)"
   ]
  },
  {
   "cell_type": "code",
   "execution_count": 27,
   "metadata": {},
   "outputs": [
    {
     "data": {
      "text/plain": [
       "array([[-2.63633780e+00, -2.37829162e-02, -4.59228259e-01,\n",
       "        -2.72347181e+00,  6.49103499e-01,  3.59501355e-02,\n",
       "        -3.34457119e-01,  3.18403890e+00,  3.81774167e+00,\n",
       "        -4.68004699e-01,  1.49946356e+00,  1.47143260e+00,\n",
       "        -1.01526893e+00,  8.44643313e-01, -1.51885284e-02,\n",
       "         3.96103473e+00, -4.03753630e-01, -2.36423532e+00,\n",
       "        -7.15991977e-01, -1.01873279e+00,  2.51255457e-01,\n",
       "        -1.13016378e+00,  1.65858523e-01,  2.69856192e+00,\n",
       "         2.79686469e-01, -2.75209021e+00, -2.76318275e+00,\n",
       "        -1.17989039e+00, -2.43945813e+00,  3.39718173e+00,\n",
       "        -5.24266414e-01, -3.23809665e+00, -3.18604011e+00,\n",
       "         6.91419616e-01, -1.30373674e-01, -1.48910540e-02,\n",
       "        -1.94929834e+00, -3.11589805e+00, -2.04824110e+00,\n",
       "         4.30050318e-01, -2.57289374e+00,  8.45886963e-01,\n",
       "         2.31375359e+00,  1.67439409e+00,  4.37874567e+00,\n",
       "        -3.68475106e-01, -3.03979341e-01, -8.37625700e-01,\n",
       "        -3.37888814e-01, -1.05344224e+00, -1.94891730e+00,\n",
       "         1.06461155e+00, -7.63406954e-01,  3.20372425e+00,\n",
       "         2.89490551e+00, -1.28221066e+00, -2.10476044e+00,\n",
       "        -3.62277192e-01,  3.30170785e+00, -2.00264134e+00,\n",
       "         1.93154936e+00, -8.62260160e-02, -8.58362476e-01,\n",
       "        -2.71347417e+00, -2.60886003e+00, -9.33046598e-01,\n",
       "        -3.93954022e+00,  1.05100887e+00,  3.10151692e+00,\n",
       "        -1.26575408e+00, -8.43456800e-01, -7.96066480e-02,\n",
       "        -1.19807283e+00,  4.66041154e+00,  1.78420908e+00,\n",
       "         2.55508731e+00, -2.94312124e-01,  2.86196065e+00,\n",
       "        -5.22882864e-01, -3.57503427e-01, -1.73719248e+00,\n",
       "        -1.66730589e+00,  2.78337904e+00, -1.09212787e+00,\n",
       "        -1.63783081e+00,  6.65798534e-01,  6.46278323e-01,\n",
       "        -2.43444700e+00, -2.25836383e+00,  4.91704980e-01,\n",
       "         7.77137750e-01,  1.26348745e+01,  8.27302346e-02,\n",
       "        -1.99722667e+00, -2.70998097e+00,  4.25940891e-01,\n",
       "         2.29724910e-01, -2.94467165e+00,  2.63276230e+00,\n",
       "        -2.11493639e+00,  3.10564256e-01, -1.11608440e+00,\n",
       "        -5.13324993e-01, -1.27133811e+00,  3.54765408e-01,\n",
       "        -5.47641444e-01, -2.73118909e+00, -1.26501552e+00,\n",
       "        -1.33523177e+00, -1.25409822e+00,  4.49565181e+00,\n",
       "         2.20867042e+00, -3.06116318e+00, -3.93456168e+00,\n",
       "         5.84824852e+00,  1.05212208e+00, -1.86230310e+00,\n",
       "         3.01947222e-01, -4.89031677e-01, -1.81278810e-01,\n",
       "        -9.29788741e-01,  8.54391522e-01,  1.76011692e+00,\n",
       "         5.13206420e+00,  2.82867277e-01,  1.41208703e-01,\n",
       "        -1.74824014e+00, -8.49130691e-01,  9.12204637e-01,\n",
       "        -1.86224603e+00,  1.85066383e-01,  6.67431523e-01,\n",
       "        -3.22480450e+00,  6.58396483e+00,  1.40979941e+00,\n",
       "         2.04142058e+00, -1.51836951e+00, -1.17856693e+00,\n",
       "         1.75620599e+00,  2.24496442e+00, -5.46925252e-01,\n",
       "        -2.26419639e-01, -2.01735186e+00, -1.98244111e-01,\n",
       "         3.80832892e+00,  6.26604980e+00, -1.37697536e+00,\n",
       "        -2.27787934e+00,  1.73549043e-01, -2.00790902e+00,\n",
       "        -2.24396893e+00, -8.58227997e-01, -6.25865971e-02,\n",
       "         3.28152036e-01, -8.95280414e-01, -2.62168238e+00,\n",
       "        -3.73654908e-01,  2.68993109e+00,  2.60725776e+00,\n",
       "         3.78619060e+00,  4.55607220e-01, -1.03229566e+00,\n",
       "        -1.17560608e+00, -3.14504831e-01, -5.94560306e-01,\n",
       "        -1.80283959e+00, -2.64560383e+00],\n",
       "       [ 1.47225984e+00, -1.43553539e+00, -6.79704711e-01,\n",
       "         2.17496646e+00, -1.02640436e+00, -6.85691881e-01,\n",
       "        -1.27861656e+00, -2.39407303e-01,  2.62449000e-01,\n",
       "        -4.93948233e-01, -4.25403860e-01, -3.26326702e-01,\n",
       "        -7.13953680e-01, -1.00952007e+00, -9.86231378e-01,\n",
       "         8.37822447e-01, -9.23972570e-01,  1.17352908e+00,\n",
       "        -7.70400643e-01, -4.29274420e-01, -1.70010208e+00,\n",
       "         4.02021948e-01, -1.01886132e+00,  3.74733380e-01,\n",
       "        -1.32232123e+00,  1.66724052e+00,  1.62858320e+00,\n",
       "        -4.93762242e-01,  1.29052537e+00, -6.60646709e-02,\n",
       "        -9.80279388e-01,  2.18421586e+00,  2.35971082e+00,\n",
       "        -1.11761495e+00, -1.36558403e+00, -1.29472473e+00,\n",
       "         6.05933955e-01,  2.17194637e+00,  1.08616029e+00,\n",
       "        -1.37732068e+00,  1.50015907e+00, -1.26414490e+00,\n",
       "        -5.50775615e-01, -8.68372925e-01,  9.28095773e-01,\n",
       "        -8.14995033e-01, -9.77017260e-01, -5.32583166e-01,\n",
       "        -1.22054410e+00,  2.70069088e+00,  4.92318874e-01,\n",
       "        -9.26815010e-01, -5.82307178e-01,  2.39238089e-03,\n",
       "        -2.98425520e-01,  8.52033851e-01,  8.25478462e-01,\n",
       "        -1.16847784e+00, -1.55398559e-01,  7.50936528e-01,\n",
       "        -1.01763072e+00, -1.04001774e+00, -5.37487549e-01,\n",
       "         1.61553187e+00,  1.40913052e+00, -4.33130944e-01,\n",
       "         3.04850935e+00, -9.95450937e-01,  1.68439475e-01,\n",
       "        -2.73511889e-01, -5.68292256e-01, -9.75349727e-01,\n",
       "         3.63927496e-01,  1.40214823e+00, -3.97292536e-01,\n",
       "        -7.70212072e-01, -1.07627971e+00, -8.68471054e-01,\n",
       "        -6.43525977e-01, -2.24449690e-01,  2.82650209e-01,\n",
       "         2.35865844e-01,  4.15724598e-01, -5.48887175e-01,\n",
       "         2.40206118e-01, -1.21006884e+00, -1.50076877e+00,\n",
       "         1.16414823e+00,  9.34606847e-01, -5.20736573e-01,\n",
       "        -1.00529350e+00,  8.22317047e+00, -1.46879490e+00,\n",
       "         5.54216753e-01,  1.49829717e+00, -8.49832807e-01,\n",
       "        -1.18437407e+00,  2.01452740e+00,  7.51261919e-02,\n",
       "         1.04302904e+00, -1.18470561e+00, -2.13290317e-01,\n",
       "        -1.23548510e+00,  7.53295919e-02, -1.40887207e+00,\n",
       "        -9.80530704e-01,  1.54739493e+00, -3.58054869e-01,\n",
       "         4.16923264e-01, -4.07664374e-01,  9.94097780e-01,\n",
       "        -4.55859587e-01,  2.10846634e+00,  3.81988863e+00,\n",
       "         1.66835778e+00, -2.90598741e-02,  5.67797841e-01,\n",
       "        -8.81426331e-01, -9.20478290e-01, -1.16601052e+00,\n",
       "        -6.01468566e-01, -1.28768975e+00, -1.08617020e+00,\n",
       "         1.46013127e+00, -1.24376720e+00, -7.97501443e-01,\n",
       "         2.59649035e-01, -4.95132008e-01,  3.19017843e-02,\n",
       "         4.94968265e-01, -1.43378580e+00, -7.69822892e-01,\n",
       "         2.32261358e+00,  2.91519719e+00, -7.90340525e-01,\n",
       "        -7.26673067e-01,  1.28375272e-02,  3.57243873e-01,\n",
       "        -1.02255881e+00, -1.00179335e+00, -9.53848040e-01,\n",
       "        -9.87630320e-01,  8.47894830e-01, -5.67999113e-01,\n",
       "         3.86351829e-01,  1.85834279e+00, -1.67381044e-01,\n",
       "         1.00711959e+00, -1.40146991e+00,  1.08320446e+00,\n",
       "         9.06388512e-01, -5.46646984e-01, -1.28465363e+00,\n",
       "        -1.06737313e+00, -1.89937456e-01,  1.46240664e+00,\n",
       "        -1.16196499e+00,  5.40482257e-01, -3.67546119e-01,\n",
       "         1.41649993e-01, -1.09932638e+00, -5.67502483e-01,\n",
       "        -2.81249100e-01, -1.91426333e-02, -1.08412972e+00,\n",
       "         5.84669129e-01,  1.57191703e+00],\n",
       "       [-5.48330498e-01, -1.54701978e-02,  9.56536815e-01,\n",
       "         5.97396852e-01, -2.58645163e-01,  1.46841882e+00,\n",
       "         1.90805480e-01, -1.31692434e-01, -2.58554292e-01,\n",
       "         6.11513868e-01, -5.43188833e-01,  3.97743640e-01,\n",
       "        -1.02949577e-01, -4.11578573e-01,  8.96114083e-01,\n",
       "        -2.71866280e-01, -5.05497008e-01, -1.25074092e+00,\n",
       "        -1.27548222e-01,  5.23464370e-02, -2.41858936e-01,\n",
       "        -2.25403431e-01,  2.83248270e-01,  1.56233291e+00,\n",
       "        -3.23306394e-01, -8.50067229e-01, -2.99614669e-01,\n",
       "        -5.69754818e-01, -1.22648379e+00, -4.76429156e-02,\n",
       "        -5.73835422e-01, -1.60075184e+00, -1.08276050e+00,\n",
       "         4.94528749e-01,  1.78344242e-01, -9.19162432e-02,\n",
       "        -7.78443480e-01,  3.59768430e-01,  7.19239955e-01,\n",
       "         2.63130401e-01, -9.55725062e-01, -2.70247877e-01,\n",
       "        -6.90122204e-02, -4.41958470e-01, -1.61887310e-01,\n",
       "        -7.67786752e-02,  1.69652873e-01,  2.48087127e-01,\n",
       "        -2.85673012e-01,  1.04827820e+00, -3.79818143e-02,\n",
       "        -2.05893536e-01, -3.78052339e-01, -2.81518428e-01,\n",
       "        -2.14798171e-01,  5.16413776e-01, -7.66035704e-01,\n",
       "         2.36606264e-01, -2.40857511e-01,  3.74269244e-01,\n",
       "        -2.00726950e-01, -5.12251148e-01, -2.43963280e-01,\n",
       "         4.07241905e-02, -1.19555042e+00, -2.99677570e-01,\n",
       "        -1.74750175e+00, -1.73020374e-01,  1.92851012e-01,\n",
       "        -6.50739617e-02,  7.15274717e-01,  1.01388038e+00,\n",
       "         6.66187606e-01, -7.54224188e-01, -1.54209703e-01,\n",
       "        -1.80859943e-01,  3.81180616e-01, -3.59774606e-01,\n",
       "         1.97151788e-01,  1.16356214e+00, -8.78821464e-01,\n",
       "        -9.64390178e-01,  1.01849013e+00,  1.46669651e-01,\n",
       "        -2.06802129e-01, -4.94995984e-01, -2.80115299e-01,\n",
       "        -1.14081762e+00, -7.68179034e-01,  9.33630620e-01,\n",
       "        -2.00463348e-01, -6.19223710e-01, -2.47851794e-01,\n",
       "        -3.37354995e-01, -3.53837915e-01,  2.51800683e-01,\n",
       "        -1.65423115e-01, -1.14762289e+00, -5.51355981e-02,\n",
       "         5.88903864e-01, -3.51255666e-01, -5.54543655e-01,\n",
       "         4.14999557e-01,  2.79287904e+00, -2.37376593e-01,\n",
       "        -5.23472234e-01, -7.78918224e-01, -2.39772783e-01,\n",
       "        -7.55851404e-01,  5.58918850e-01, -3.58735177e-01,\n",
       "         3.21815174e-02, -1.32968121e+00,  7.92861207e+00,\n",
       "         1.92655378e-01,  1.15143375e+00, -1.02646031e-01,\n",
       "        -2.18071880e-01, -2.00688224e-02,  7.29622399e-02,\n",
       "        -3.54401565e-01, -1.73107872e-01, -2.15437910e-01,\n",
       "         1.01202344e+00, -8.97428095e-02,  8.22572515e-01,\n",
       "        -8.14183618e-01, -5.50451088e-01,  1.25716307e+00,\n",
       "        -9.31382733e-01,  1.27939972e-01, -8.63953620e-01,\n",
       "        -1.11519642e-01, -3.22629151e-01, -3.45099874e-01,\n",
       "        -3.97472350e-01, -3.53271143e-01, -5.13738769e-01,\n",
       "         7.27930434e-02, -1.86866756e-01,  1.58729852e+00,\n",
       "        -1.67061993e-01,  6.96611807e-01,  3.51582150e-02,\n",
       "        -2.37049798e-01, -4.36016170e-01,  2.84455654e-01,\n",
       "        -4.04580608e-01, -1.27262445e-02,  1.38086173e+00,\n",
       "        -1.19179873e+00, -3.82174827e-01, -9.06319126e-02,\n",
       "         2.57679451e-01, -6.24749768e-01, -4.13947578e-01,\n",
       "         6.75665703e-01,  9.23005162e-01, -1.53902620e-01,\n",
       "        -2.97774223e-01,  4.51179027e-02,  7.64642172e-01,\n",
       "        -6.63618938e-01,  3.68085401e+00,  5.28668085e-01,\n",
       "         1.17955134e+00, -1.69911274e-01],\n",
       "       [ 2.38302128e-01, -4.28278354e-01, -1.93531315e-01,\n",
       "         4.17695067e-01, -2.76882415e-01,  4.60321765e-02,\n",
       "        -4.77018594e-01,  1.67437937e+00,  1.02465750e+00,\n",
       "        -2.76290913e-01,  2.54181402e-01, -2.17918978e-01,\n",
       "        -3.54865875e-01, -1.16555146e-01, -5.13359668e-01,\n",
       "         3.11797667e-01, -3.55780316e-01,  2.42826717e-01,\n",
       "        -3.44813442e-01, -1.92257229e-01, -4.34006184e-01,\n",
       "        -1.41536965e-01,  3.78576888e-02,  1.46604773e-02,\n",
       "        -4.28927378e-01,  3.27684263e-01,  3.16131409e-01,\n",
       "        -3.19317842e-01,  1.98708904e-01,  1.62247985e+00,\n",
       "        -3.46541359e-01,  2.62970334e-01,  5.30972452e-01,\n",
       "        -7.07726286e-02, -4.23151036e-01, -2.18015315e-01,\n",
       "         9.98253061e-02,  4.31400702e-01,  3.20281922e-02,\n",
       "        -1.37670816e-01,  2.15847874e-01, -1.70011939e-01,\n",
       "        -1.41129173e-01, -2.60272214e-01,  1.59496586e+00,\n",
       "        -1.75366875e-01, -1.85932639e-01, -1.99860621e-01,\n",
       "        -3.66907331e-01,  3.17983365e-01, -3.29136431e-02,\n",
       "        -4.67821366e-01, -3.87646163e-01,  1.00651905e+00,\n",
       "         1.51748060e+00,  8.34204768e-02,  2.23241341e-01,\n",
       "        -4.10071524e-01,  1.16453092e+00,  1.46711546e-03,\n",
       "         6.20709629e-01, -3.09421917e-01, -1.55037851e-01,\n",
       "         2.28763143e-01,  1.82710861e-01, -3.60298748e-01,\n",
       "         9.19213202e-02, -5.38124076e-01,  7.75542077e-01,\n",
       "        -2.81430294e-01, -3.09809664e-01, -2.67545815e-01,\n",
       "         1.11568331e-01, -3.34533616e-01,  6.15361962e-01,\n",
       "         9.35171313e-01, -3.76794519e-01,  1.54440892e+00,\n",
       "        -1.36745303e-01, -1.89155208e-01, -3.93438483e-02,\n",
       "        -1.06889831e-01,  5.06528652e-03, -3.12851671e-01,\n",
       "        -1.63138364e-01, -4.20664301e-01, -3.46461285e-01,\n",
       "        -1.62731806e-01,  1.16935969e-01, -2.39774320e-01,\n",
       "        -4.41043365e-01, -4.39746865e+00, -4.89207753e-01,\n",
       "        -2.52910269e-02,  1.42369932e-01, -4.88192076e-01,\n",
       "        -4.10236679e-01,  4.99753322e-01, -1.22983276e+00,\n",
       "         1.93108337e-01, -4.47429494e-01, -1.37919694e-01,\n",
       "        -5.78427675e-01, -3.23060343e-01, -3.52638174e-01,\n",
       "        -3.06564886e-01,  2.07555619e-01, -2.97384982e-01,\n",
       "        -1.17977319e-01, -3.23242620e-01,  8.49291127e-01,\n",
       "         9.67164780e-01,  5.82765045e-01,  5.52149869e-01,\n",
       "         2.74877619e+00, -1.41152377e-01,  3.69264309e-04,\n",
       "        -2.70327222e-01, -3.11559961e-01, -2.40270788e-01,\n",
       "        -2.63765780e-01, -2.39458354e-01,  3.83998350e-01,\n",
       "         3.31412654e-01, -3.53876101e-01, -2.47617363e-01,\n",
       "        -5.74060509e-03, -7.63963321e-02,  1.06752293e-01,\n",
       "         8.49049825e-02, -3.90974283e-01, -6.80945008e-01,\n",
       "         3.58402757e-01, -3.55377517e+00, -3.85471192e-01,\n",
       "        -6.51017262e-02, -1.69333580e-01, -8.81210715e-02,\n",
       "        -1.16541557e-01,  7.11404753e-01, -3.91224075e-01,\n",
       "        -3.89318638e-01,  1.50028284e-01, -2.00601965e-01,\n",
       "         1.19388304e+00,  1.71322774e+00, -1.65781136e-01,\n",
       "         1.42103366e-01, -5.24677391e-01,  4.42455510e-01,\n",
       "         8.49684022e-02, -1.62538736e-01, -3.81933807e-01,\n",
       "        -5.35884981e-02, -2.55191732e-01,  2.71157487e-01,\n",
       "        -5.29782804e-01, -4.84674823e-01,  1.06504360e+00,\n",
       "         3.29124818e+00, -1.96618883e-02, -3.64002038e-01,\n",
       "        -2.58950482e-01,  1.67724380e-02, -4.78067262e-01,\n",
       "         5.15095885e-02,  1.61734999e-01],\n",
       "       [ 6.10029273e-02, -1.54305141e-01, -9.21275020e-02,\n",
       "         5.66944470e-02,  7.70873177e-02, -9.31926507e-02,\n",
       "        -2.53557140e-01,  8.73676249e-02, -2.99611118e-01,\n",
       "         1.15536307e-01, -1.09091167e-01,  7.96269292e-01,\n",
       "        -2.54570490e-01, -2.02065607e-01, -4.67369769e-02,\n",
       "        -5.33685628e-01, -9.31953610e-02,  1.49385935e-01,\n",
       "        -1.49521165e-01, -1.65402287e-01, -2.27721408e-01,\n",
       "         1.97822002e-01, -1.17450941e-01,  2.36625226e+00,\n",
       "         5.42423297e-02,  1.27909639e-01, -3.67928539e-03,\n",
       "        -1.45094124e-01,  2.02107270e-01, -2.91629221e-01,\n",
       "        -1.37144634e-01,  3.51212423e-01,  2.66734617e-01,\n",
       "        -6.22963669e-02, -1.57646292e-01, -1.12431319e-01,\n",
       "        -3.29755349e-02, -6.81928359e-02, -1.10849442e-01,\n",
       "        -2.69840569e-01,  1.75420425e-01,  7.05220270e-02,\n",
       "         1.89212689e-01,  1.55603717e-01, -6.58337876e-01,\n",
       "        -3.27086765e-02, -1.85512994e-01, -2.38338653e-02,\n",
       "        -1.61428919e-01,  8.15992627e-01, -1.53073070e-01,\n",
       "         1.06812861e-01, -5.99801315e-02, -3.30231613e-02,\n",
       "        -2.43477366e-01,  2.69032383e-01, -2.79954611e-03,\n",
       "        -2.97300202e-01, -2.03114253e-01, -1.50877994e-01,\n",
       "        -5.62120549e-02, -2.51625584e-02, -1.01340554e-01,\n",
       "        -4.59796014e-02,  1.70777021e-01, -1.17465159e-01,\n",
       "         5.63375781e-01,  5.85555270e-02, -1.65966782e-01,\n",
       "        -1.24551969e-01, -1.52656061e-01,  3.35944183e-02,\n",
       "         3.59200374e-02, -4.09162441e-01,  9.20536816e-02,\n",
       "         9.05428564e-02, -2.59980714e-01,  6.59731677e-03,\n",
       "        -1.61433174e-01,  1.78226287e-01,  4.47947653e-03,\n",
       "        -5.69015051e-02,  2.18968887e+00, -2.88585249e-01,\n",
       "        -5.76327901e-02,  9.33349516e-02, -2.41036295e-02,\n",
       "         1.74770123e-01, -1.13709263e-02,  4.72335725e-01,\n",
       "         1.05255664e-01, -1.81607581e+00, -7.70191359e-02,\n",
       "        -9.26476620e-02,  2.41446790e-02,  1.79336439e-01,\n",
       "        -2.11761585e-01,  2.29804918e-01, -4.70955248e-01,\n",
       "        -1.71138030e-01,  6.93934059e-02, -2.18028247e-01,\n",
       "        -4.07218493e-01, -5.12643453e-01, -8.27232513e-02,\n",
       "        -1.07771172e-01,  9.64534343e-02, -1.13776653e-01,\n",
       "         1.26253836e-01, -3.55080864e-01, -6.17332346e-01,\n",
       "        -8.76207180e-02,  2.27999744e-01, -1.07663082e+00,\n",
       "        -2.37380799e-01,  1.06781401e+00, -1.86381034e-02,\n",
       "        -5.37293348e-02, -1.85382965e-01, -1.26234830e-01,\n",
       "        -9.13975542e-02,  1.45713222e-01, -6.89326441e-02,\n",
       "         4.25254951e+00,  1.51892523e-01,  2.86445171e-01,\n",
       "        -6.61184964e-02, -1.32344128e-01,  1.03971689e+00,\n",
       "         1.12058178e-02, -1.48806137e-01,  2.44398732e-01,\n",
       "         7.71093715e-02,  3.36902441e-01,  2.94884498e-02,\n",
       "        -5.29775017e-02, -1.84201047e-01,  2.05570787e-01,\n",
       "         2.11397211e-01,  6.13161265e-02, -3.65525598e-01,\n",
       "        -9.54597558e-02, -2.01538568e-01,  1.57498578e-02,\n",
       "        -2.20076236e-01, -9.45591915e-01, -2.92793028e-01,\n",
       "        -6.21739128e-03, -1.61539139e-02, -4.62284963e-01,\n",
       "         9.27280869e-02, -1.68337161e-01, -1.19530796e-01,\n",
       "         5.09058035e-02,  1.53183713e-01,  2.57064420e-02,\n",
       "        -2.99318689e-01,  1.14007149e+00, -1.07489540e-02,\n",
       "        -5.38677048e-01, -2.90938249e-02, -3.32114480e-01,\n",
       "        -1.33250526e-01, -4.75066116e-01, -3.73131976e-01,\n",
       "        -2.74607707e-01,  7.70921275e-02]])"
      ]
     },
     "execution_count": 27,
     "metadata": {},
     "output_type": "execute_result"
    }
   ],
   "source": [
    "country_df_pca_final"
   ]
  },
  {
   "cell_type": "code",
   "execution_count": 28,
   "metadata": {},
   "outputs": [
    {
     "data": {
      "text/html": [
       "<div>\n",
       "<style scoped>\n",
       "    .dataframe tbody tr th:only-of-type {\n",
       "        vertical-align: middle;\n",
       "    }\n",
       "\n",
       "    .dataframe tbody tr th {\n",
       "        vertical-align: top;\n",
       "    }\n",
       "\n",
       "    .dataframe thead th {\n",
       "        text-align: right;\n",
       "    }\n",
       "</style>\n",
       "<table border=\"1\" class=\"dataframe\">\n",
       "  <thead>\n",
       "    <tr style=\"text-align: right;\">\n",
       "      <th></th>\n",
       "      <th>PC1</th>\n",
       "      <th>PC2</th>\n",
       "      <th>PC3</th>\n",
       "      <th>PC4</th>\n",
       "      <th>PC5</th>\n",
       "    </tr>\n",
       "  </thead>\n",
       "  <tbody>\n",
       "    <tr>\n",
       "      <th>0</th>\n",
       "      <td>-2.636338</td>\n",
       "      <td>1.472260</td>\n",
       "      <td>-0.548330</td>\n",
       "      <td>0.238302</td>\n",
       "      <td>0.061003</td>\n",
       "    </tr>\n",
       "    <tr>\n",
       "      <th>1</th>\n",
       "      <td>-0.023783</td>\n",
       "      <td>-1.435535</td>\n",
       "      <td>-0.015470</td>\n",
       "      <td>-0.428278</td>\n",
       "      <td>-0.154305</td>\n",
       "    </tr>\n",
       "    <tr>\n",
       "      <th>2</th>\n",
       "      <td>-0.459228</td>\n",
       "      <td>-0.679705</td>\n",
       "      <td>0.956537</td>\n",
       "      <td>-0.193531</td>\n",
       "      <td>-0.092128</td>\n",
       "    </tr>\n",
       "    <tr>\n",
       "      <th>3</th>\n",
       "      <td>-2.723472</td>\n",
       "      <td>2.174966</td>\n",
       "      <td>0.597397</td>\n",
       "      <td>0.417695</td>\n",
       "      <td>0.056694</td>\n",
       "    </tr>\n",
       "    <tr>\n",
       "      <th>4</th>\n",
       "      <td>0.649103</td>\n",
       "      <td>-1.026404</td>\n",
       "      <td>-0.258645</td>\n",
       "      <td>-0.276882</td>\n",
       "      <td>0.077087</td>\n",
       "    </tr>\n",
       "  </tbody>\n",
       "</table>\n",
       "</div>"
      ],
      "text/plain": [
       "        PC1       PC2       PC3       PC4       PC5\n",
       "0 -2.636338  1.472260 -0.548330  0.238302  0.061003\n",
       "1 -0.023783 -1.435535 -0.015470 -0.428278 -0.154305\n",
       "2 -0.459228 -0.679705  0.956537 -0.193531 -0.092128\n",
       "3 -2.723472  2.174966  0.597397  0.417695  0.056694\n",
       "4  0.649103 -1.026404 -0.258645 -0.276882  0.077087"
      ]
     },
     "execution_count": 28,
     "metadata": {},
     "output_type": "execute_result"
    }
   ],
   "source": [
    "pcs_df = pd.DataFrame({'PC1':country_df_pca_final[0],'PC2':country_df_pca_final[1],'PC3':country_df_pca_final[2],'PC4':country_df_pca_final[3],'PC5':country_df_pca_final[4]})\n",
    "pcs_df.head()"
   ]
  },
  {
   "cell_type": "markdown",
   "metadata": {},
   "source": [
    "#### Outlier Analysis after PCA"
   ]
  },
  {
   "cell_type": "code",
   "execution_count": 29,
   "metadata": {},
   "outputs": [
    {
     "data": {
      "image/png": "[encoded data removed]",
      "text/plain": [
       "<Figure size 864x576 with 5 Axes>"
      ]
     },
     "metadata": {
      "needs_background": "light"
     },
     "output_type": "display_data"
    }
   ],
   "source": [
    "#Boxplots for outlier analysis for different Principal Components\n",
    "plt.figure(figsize=(12,8))\n",
    "plt.subplot(2,3,1)\n",
    "plt.boxplot(pcs_df['PC1'])\n",
    "plt.xlabel('PC1')\n",
    "plt.subplot(2,3,2)\n",
    "plt.boxplot(pcs_df['PC2'])\n",
    "plt.xlabel('PC2')\n",
    "plt.subplot(2,3,3)\n",
    "plt.boxplot(pcs_df['PC3'])\n",
    "plt.xlabel('PC3')\n",
    "plt.subplot(2,3,4)\n",
    "plt.boxplot(pcs_df['PC4'])\n",
    "plt.xlabel('PC4')\n",
    "plt.subplot(2,3,5)\n",
    "plt.boxplot(pcs_df['PC5'])\n",
    "plt.xlabel('PC5')\n",
    "plt.show()"
   ]
  },
  {
   "cell_type": "markdown",
   "metadata": {},
   "source": [
    "<font color = green> From the above boxplots for different Principal Components we can see that, there are outliers present in each of the PC's. PC2 seems to be the one least affected by outliers while coming to componets 4 and 5 there are many outliers present. We can remove these datapoints before proceeding to clustering, but since we know we have only around 167 datapoints with us, dropping these many points will result in loosing in many information. Hence we will go ahead with clustering."
   ]
  },
  {
   "cell_type": "markdown",
   "metadata": {},
   "source": [
    "<font color = red> *_In each of the above boxplots we can see the mean line is centered around 0. This is because of the fact that we have done Standardisation in our dataset._*"
   ]
  },
  {
   "cell_type": "code",
   "execution_count": 30,
   "metadata": {},
   "outputs": [
    {
     "data": {
      "image/png": "[encoded data removed]",
      "text/plain": [
       "<Figure size 1224x1008 with 10 Axes>"
      ]
     },
     "metadata": {
      "needs_background": "light"
     },
     "output_type": "display_data"
    }
   ],
   "source": [
    "#Visualising the points on the PCs.\n",
    "# one of the prime advatanges of PCA is that you can visualise high dimensional data\n",
    "plt.figure(figsize=(17,14))\n",
    "plt.subplot(4,4,1)\n",
    "sns.scatterplot(x='PC1',y='PC2',data=pcs_df)\n",
    "plt.subplot(4,4,2)\n",
    "sns.scatterplot(x='PC1',y='PC3',data=pcs_df)\n",
    "plt.subplot(4,4,3)\n",
    "sns.scatterplot(x='PC1',y='PC4',data=pcs_df)\n",
    "plt.subplot(4,4,4)\n",
    "sns.scatterplot(x='PC1',y='PC5',data=pcs_df)\n",
    "plt.subplot(4,4,5)\n",
    "sns.scatterplot(x='PC2',y='PC3',data=pcs_df)\n",
    "plt.subplot(4,4,6)\n",
    "sns.scatterplot(x='PC2',y='PC4',data=pcs_df)\n",
    "plt.subplot(4,4,7)\n",
    "sns.scatterplot(x='PC2',y='PC5',data=pcs_df)\n",
    "plt.subplot(4,4,8)\n",
    "sns.scatterplot(x='PC3',y='PC4',data=pcs_df)\n",
    "plt.subplot(4,4,9)\n",
    "sns.scatterplot(x='PC3',y='PC5',data=pcs_df)\n",
    "plt.subplot(4,4,10)\n",
    "sns.scatterplot(x='PC4',y='PC5',data=pcs_df)\n",
    "plt.show()"
   ]
  },
  {
   "cell_type": "markdown",
   "metadata": {},
   "source": [
    "#### Clustering"
   ]
  },
  {
   "cell_type": "code",
   "execution_count": 31,
   "metadata": {},
   "outputs": [],
   "source": [
    "#Calculating the Hopkins statistic\n",
    "from sklearn.neighbors import NearestNeighbors\n",
    "from random import sample\n",
    "from numpy.random import uniform\n",
    "import numpy as np\n",
    "from math import isnan\n",
    " \n",
    "def hopkins(X):\n",
    "    d = X.shape[1]\n",
    "    #d = len(vars) # columns\n",
    "    n = len(X) # rows\n",
    "    m = int(0.1 * n) \n",
    "    nbrs = NearestNeighbors(n_neighbors=1).fit(X.values)\n",
    " \n",
    "    rand_X = sample(range(0, n, 1), m)\n",
    " \n",
    "    ujd = []\n",
    "    wjd = []\n",
    "    for j in range(0, m):\n",
    "        u_dist, _ = nbrs.kneighbors(uniform(np.amin(X,axis=0),np.amax(X,axis=0),d).reshape(1, -1), 2, return_distance=True)\n",
    "        ujd.append(u_dist[0][1])\n",
    "        w_dist, _ = nbrs.kneighbors(X.iloc[rand_X[j]].values.reshape(1, -1), 2, return_distance=True)\n",
    "        wjd.append(w_dist[0][1])\n",
    " \n",
    "    H = sum(ujd) / (sum(ujd) + sum(wjd))\n",
    "    if isnan(H):\n",
    "        print(ujd, wjd)\n",
    "        H = 0\n",
    " \n",
    "    return H"
   ]
  },
  {
   "cell_type": "code",
   "execution_count": 32,
   "metadata": {},
   "outputs": [
    {
     "data": {
      "text/plain": [
       "0.888586795708277"
      ]
     },
     "execution_count": 32,
     "metadata": {},
     "output_type": "execute_result"
    }
   ],
   "source": [
    "#Let's check the Hopkins measure\n",
    "hopkins(pcs_df)"
   ]
  },
  {
   "cell_type": "code",
   "execution_count": 33,
   "metadata": {},
   "outputs": [],
   "source": [
    "#Since the value is > 0.5 the given dataset has a good tendency to form clusters."
   ]
  },
  {
   "cell_type": "markdown",
   "metadata": {},
   "source": [
    "### K-Means Clustering"
   ]
  },
  {
   "cell_type": "code",
   "execution_count": 34,
   "metadata": {},
   "outputs": [],
   "source": [
    "k_means_df = pcs_df.copy()"
   ]
  },
  {
   "cell_type": "code",
   "execution_count": 35,
   "metadata": {},
   "outputs": [
    {
     "data": {
      "text/plain": [
       "[<matplotlib.lines.Line2D at 0xcab4978>]"
      ]
     },
     "execution_count": 35,
     "metadata": {},
     "output_type": "execute_result"
    },
    {
     "data": {
      "image/png": "[encoded data removed]",
      "text/plain": [
       "<Figure size 432x288 with 1 Axes>"
      ]
     },
     "metadata": {
      "needs_background": "light"
     },
     "output_type": "display_data"
    }
   ],
   "source": [
    "ssd = []\n",
    "for num_clusters in list(range(1,10)):\n",
    "    model_clus = KMeans(n_clusters = num_clusters, max_iter=50)\n",
    "    model_clus.fit(k_means_df)\n",
    "    ssd.append(model_clus.inertia_)\n",
    "plt.plot(ssd)"
   ]
  },
  {
   "cell_type": "markdown",
   "metadata": {},
   "source": [
    "<font color = green> From the Elbow Curve above we can see that, we can't decide on a clear elbow from the above plot since the plot looks like a fairly smooth curve. But with a common intuition we can say that the number of clusters can be 4."
   ]
  },
  {
   "cell_type": "markdown",
   "metadata": {},
   "source": [
    "<font color = green> We can check again the above notion, with the help of other important approach of `Silhoette Score`."
   ]
  },
  {
   "cell_type": "code",
   "execution_count": 36,
   "metadata": {},
   "outputs": [],
   "source": [
    "#First we'll do the silhouette score analysis\n",
    "from sklearn.metrics import silhouette_score\n",
    "sse_ = []\n",
    "for k in range(2, 10):\n",
    "    kmeans = KMeans(n_clusters=k).fit(k_means_df)\n",
    "    sse_.append([k, silhouette_score(k_means_df, kmeans.labels_)])"
   ]
  },
  {
   "cell_type": "code",
   "execution_count": 37,
   "metadata": {},
   "outputs": [
    {
     "data": {
      "text/plain": [
       "Text(0.5, 1.0, 'Silhouette Score Analysis')"
      ]
     },
     "execution_count": 37,
     "metadata": {},
     "output_type": "execute_result"
    },
    {
     "data": {
      "image/png": "[encoded data removed]",
      "text/plain": [
       "<Figure size 432x288 with 1 Axes>"
      ]
     },
     "metadata": {
      "needs_background": "light"
     },
     "output_type": "display_data"
    }
   ],
   "source": [
    "plt.plot(pd.DataFrame(sse_)[0], pd.DataFrame(sse_)[1]);\n",
    "plt.ylabel('SSE')\n",
    "plt.xlabel('Number of clusters')\n",
    "plt.title(\"Silhouette Score Analysis\")"
   ]
  },
  {
   "cell_type": "markdown",
   "metadata": {},
   "source": [
    "<font color = green> From the above Silhouette score plot we can see that,we are getting good scores for cluster numbers = 2,3,4 and 5. We can see a dip in the score going from 2 to 3 and an increase further going on to 5 clusters. We have found and proceeded with 5 PC's as well. Hence we will go with the initial intuition of 5 clusters(Note: All the cluster sie of 2,3,4,5 are giving comparitive good Silhoeutte Scores)."
   ]
  },
  {
   "cell_type": "code",
   "execution_count": 38,
   "metadata": {},
   "outputs": [
    {
     "data": {
      "text/plain": [
       "KMeans(algorithm='auto', copy_x=True, init='k-means++', max_iter=50,\n",
       "    n_clusters=5, n_init=10, n_jobs=None, precompute_distances='auto',\n",
       "    random_state=50, tol=0.0001, verbose=0)"
      ]
     },
     "execution_count": 38,
     "metadata": {},
     "output_type": "execute_result"
    }
   ],
   "source": [
    "#K-Means with k =5\n",
    "cluster_model1 = KMeans(n_clusters=5,max_iter=50,random_state=50)\n",
    "cluster_model1.fit(k_means_df)"
   ]
  },
  {
   "cell_type": "code",
   "execution_count": 39,
   "metadata": {},
   "outputs": [],
   "source": [
    "final_df =pcs_df\n",
    "final_df.index = pd.RangeIndex(len(final_df.index))\n",
    "final_df_kmeans = pd.concat([final_df, pd.Series(cluster_model1.labels_)], axis=1)\n",
    "final_df_kmeans.columns = ['PC1', 'PC2','PC3','PC4','PC5','ClusterID']"
   ]
  },
  {
   "cell_type": "code",
   "execution_count": 40,
   "metadata": {},
   "outputs": [
    {
     "data": {
      "text/html": [
       "<div>\n",
       "<style scoped>\n",
       "    .dataframe tbody tr th:only-of-type {\n",
       "        vertical-align: middle;\n",
       "    }\n",
       "\n",
       "    .dataframe tbody tr th {\n",
       "        vertical-align: top;\n",
       "    }\n",
       "\n",
       "    .dataframe thead th {\n",
       "        text-align: right;\n",
       "    }\n",
       "</style>\n",
       "<table border=\"1\" class=\"dataframe\">\n",
       "  <thead>\n",
       "    <tr style=\"text-align: right;\">\n",
       "      <th></th>\n",
       "      <th>PC1</th>\n",
       "      <th>PC2</th>\n",
       "      <th>PC3</th>\n",
       "      <th>PC4</th>\n",
       "      <th>PC5</th>\n",
       "      <th>ClusterID</th>\n",
       "    </tr>\n",
       "  </thead>\n",
       "  <tbody>\n",
       "    <tr>\n",
       "      <th>0</th>\n",
       "      <td>-2.636338</td>\n",
       "      <td>1.472260</td>\n",
       "      <td>-0.548330</td>\n",
       "      <td>0.238302</td>\n",
       "      <td>0.061003</td>\n",
       "      <td>2</td>\n",
       "    </tr>\n",
       "    <tr>\n",
       "      <th>1</th>\n",
       "      <td>-0.023783</td>\n",
       "      <td>-1.435535</td>\n",
       "      <td>-0.015470</td>\n",
       "      <td>-0.428278</td>\n",
       "      <td>-0.154305</td>\n",
       "      <td>0</td>\n",
       "    </tr>\n",
       "    <tr>\n",
       "      <th>2</th>\n",
       "      <td>-0.459228</td>\n",
       "      <td>-0.679705</td>\n",
       "      <td>0.956537</td>\n",
       "      <td>-0.193531</td>\n",
       "      <td>-0.092128</td>\n",
       "      <td>0</td>\n",
       "    </tr>\n",
       "    <tr>\n",
       "      <th>3</th>\n",
       "      <td>-2.723472</td>\n",
       "      <td>2.174966</td>\n",
       "      <td>0.597397</td>\n",
       "      <td>0.417695</td>\n",
       "      <td>0.056694</td>\n",
       "      <td>2</td>\n",
       "    </tr>\n",
       "    <tr>\n",
       "      <th>4</th>\n",
       "      <td>0.649103</td>\n",
       "      <td>-1.026404</td>\n",
       "      <td>-0.258645</td>\n",
       "      <td>-0.276882</td>\n",
       "      <td>0.077087</td>\n",
       "      <td>0</td>\n",
       "    </tr>\n",
       "  </tbody>\n",
       "</table>\n",
       "</div>"
      ],
      "text/plain": [
       "        PC1       PC2       PC3       PC4       PC5  ClusterID\n",
       "0 -2.636338  1.472260 -0.548330  0.238302  0.061003          2\n",
       "1 -0.023783 -1.435535 -0.015470 -0.428278 -0.154305          0\n",
       "2 -0.459228 -0.679705  0.956537 -0.193531 -0.092128          0\n",
       "3 -2.723472  2.174966  0.597397  0.417695  0.056694          2\n",
       "4  0.649103 -1.026404 -0.258645 -0.276882  0.077087          0"
      ]
     },
     "execution_count": 40,
     "metadata": {},
     "output_type": "execute_result"
    }
   ],
   "source": [
    "final_df_kmeans.head()"
   ]
  },
  {
   "cell_type": "code",
   "execution_count": 41,
   "metadata": {},
   "outputs": [],
   "source": [
    "size_list=[]\n",
    "for i in range(0,5):\n",
    "    size_list.append(final_df_kmeans.loc[final_df_kmeans['ClusterID']== i].shape)"
   ]
  },
  {
   "cell_type": "code",
   "execution_count": 42,
   "metadata": {},
   "outputs": [
    {
     "data": {
      "text/plain": [
       "[(88, 6), (30, 6), (47, 6), (1, 6), (1, 6)]"
      ]
     },
     "execution_count": 42,
     "metadata": {},
     "output_type": "execute_result"
    }
   ],
   "source": [
    "size_list"
   ]
  },
  {
   "cell_type": "markdown",
   "metadata": {},
   "source": [
    "<font color = green> From above cluster we can see that number of datapoints/ countries in each cluster are 88,30,47,1 and 1. The 1 country only in one cluster can be the outlier countries. They can be those countries which are high up in the chart which are socially economically forward and a developed nation. Same way other can be the most underdeveloped country or the one which is socio-economically very backward one."
   ]
  },
  {
   "cell_type": "code",
   "execution_count": 43,
   "metadata": {},
   "outputs": [
    {
     "data": {
      "image/png": "[encoded data removed]",
      "text/plain": [
       "<Figure size 864x432 with 1 Axes>"
      ]
     },
     "metadata": {
      "needs_background": "light"
     },
     "output_type": "display_data"
    }
   ],
   "source": [
    "plt.figure(figsize=(12,6))\n",
    "sns.scatterplot(x='PC1',y='PC2',hue='ClusterID',legend='full',palette=['green','orange','brown','dodgerblue','red'],data=final_df_kmeans)\n",
    "plt.show()"
   ]
  },
  {
   "cell_type": "code",
   "execution_count": 44,
   "metadata": {},
   "outputs": [
    {
     "data": {
      "text/html": [
       "<div>\n",
       "<style scoped>\n",
       "    .dataframe tbody tr th:only-of-type {\n",
       "        vertical-align: middle;\n",
       "    }\n",
       "\n",
       "    .dataframe tbody tr th {\n",
       "        vertical-align: top;\n",
       "    }\n",
       "\n",
       "    .dataframe thead th {\n",
       "        text-align: right;\n",
       "    }\n",
       "</style>\n",
       "<table border=\"1\" class=\"dataframe\">\n",
       "  <thead>\n",
       "    <tr style=\"text-align: right;\">\n",
       "      <th></th>\n",
       "      <th>country</th>\n",
       "      <th>child_mort</th>\n",
       "      <th>exports</th>\n",
       "      <th>health</th>\n",
       "      <th>imports</th>\n",
       "      <th>income</th>\n",
       "      <th>inflation</th>\n",
       "      <th>life_expec</th>\n",
       "      <th>total_fer</th>\n",
       "      <th>gdpp</th>\n",
       "      <th>PC1</th>\n",
       "      <th>PC2</th>\n",
       "      <th>PC3</th>\n",
       "      <th>PC4</th>\n",
       "      <th>PC5</th>\n",
       "      <th>ClusterID</th>\n",
       "    </tr>\n",
       "  </thead>\n",
       "  <tbody>\n",
       "    <tr>\n",
       "      <th>0</th>\n",
       "      <td>Afghanistan</td>\n",
       "      <td>90.2</td>\n",
       "      <td>55.30</td>\n",
       "      <td>41.9174</td>\n",
       "      <td>248.297</td>\n",
       "      <td>1610</td>\n",
       "      <td>9.44</td>\n",
       "      <td>56.2</td>\n",
       "      <td>5.82</td>\n",
       "      <td>553</td>\n",
       "      <td>-2.636338</td>\n",
       "      <td>1.472260</td>\n",
       "      <td>-0.548330</td>\n",
       "      <td>0.238302</td>\n",
       "      <td>0.061003</td>\n",
       "      <td>2</td>\n",
       "    </tr>\n",
       "    <tr>\n",
       "      <th>1</th>\n",
       "      <td>Albania</td>\n",
       "      <td>16.6</td>\n",
       "      <td>1145.20</td>\n",
       "      <td>267.8950</td>\n",
       "      <td>1987.740</td>\n",
       "      <td>9930</td>\n",
       "      <td>4.49</td>\n",
       "      <td>76.3</td>\n",
       "      <td>1.65</td>\n",
       "      <td>4090</td>\n",
       "      <td>-0.023783</td>\n",
       "      <td>-1.435535</td>\n",
       "      <td>-0.015470</td>\n",
       "      <td>-0.428278</td>\n",
       "      <td>-0.154305</td>\n",
       "      <td>0</td>\n",
       "    </tr>\n",
       "    <tr>\n",
       "      <th>2</th>\n",
       "      <td>Algeria</td>\n",
       "      <td>27.3</td>\n",
       "      <td>1712.64</td>\n",
       "      <td>185.9820</td>\n",
       "      <td>1400.440</td>\n",
       "      <td>12900</td>\n",
       "      <td>16.10</td>\n",
       "      <td>76.5</td>\n",
       "      <td>2.89</td>\n",
       "      <td>4460</td>\n",
       "      <td>-0.459228</td>\n",
       "      <td>-0.679705</td>\n",
       "      <td>0.956537</td>\n",
       "      <td>-0.193531</td>\n",
       "      <td>-0.092128</td>\n",
       "      <td>0</td>\n",
       "    </tr>\n",
       "    <tr>\n",
       "      <th>3</th>\n",
       "      <td>Angola</td>\n",
       "      <td>119.0</td>\n",
       "      <td>2199.19</td>\n",
       "      <td>100.6050</td>\n",
       "      <td>1514.370</td>\n",
       "      <td>5900</td>\n",
       "      <td>22.40</td>\n",
       "      <td>60.1</td>\n",
       "      <td>6.16</td>\n",
       "      <td>3530</td>\n",
       "      <td>-2.723472</td>\n",
       "      <td>2.174966</td>\n",
       "      <td>0.597397</td>\n",
       "      <td>0.417695</td>\n",
       "      <td>0.056694</td>\n",
       "      <td>2</td>\n",
       "    </tr>\n",
       "    <tr>\n",
       "      <th>4</th>\n",
       "      <td>Antigua and Barbuda</td>\n",
       "      <td>10.3</td>\n",
       "      <td>5551.00</td>\n",
       "      <td>735.6600</td>\n",
       "      <td>7185.800</td>\n",
       "      <td>19100</td>\n",
       "      <td>1.44</td>\n",
       "      <td>76.8</td>\n",
       "      <td>2.13</td>\n",
       "      <td>12200</td>\n",
       "      <td>0.649103</td>\n",
       "      <td>-1.026404</td>\n",
       "      <td>-0.258645</td>\n",
       "      <td>-0.276882</td>\n",
       "      <td>0.077087</td>\n",
       "      <td>0</td>\n",
       "    </tr>\n",
       "  </tbody>\n",
       "</table>\n",
       "</div>"
      ],
      "text/plain": [
       "               country  child_mort  exports    health   imports  income  \\\n",
       "0          Afghanistan        90.2    55.30   41.9174   248.297    1610   \n",
       "1              Albania        16.6  1145.20  267.8950  1987.740    9930   \n",
       "2              Algeria        27.3  1712.64  185.9820  1400.440   12900   \n",
       "3               Angola       119.0  2199.19  100.6050  1514.370    5900   \n",
       "4  Antigua and Barbuda        10.3  5551.00  735.6600  7185.800   19100   \n",
       "\n",
       "   inflation  life_expec  total_fer   gdpp       PC1       PC2       PC3  \\\n",
       "0       9.44        56.2       5.82    553 -2.636338  1.472260 -0.548330   \n",
       "1       4.49        76.3       1.65   4090 -0.023783 -1.435535 -0.015470   \n",
       "2      16.10        76.5       2.89   4460 -0.459228 -0.679705  0.956537   \n",
       "3      22.40        60.1       6.16   3530 -2.723472  2.174966  0.597397   \n",
       "4       1.44        76.8       2.13  12200  0.649103 -1.026404 -0.258645   \n",
       "\n",
       "        PC4       PC5  ClusterID  \n",
       "0  0.238302  0.061003          2  \n",
       "1 -0.428278 -0.154305          0  \n",
       "2 -0.193531 -0.092128          0  \n",
       "3  0.417695  0.056694          2  \n",
       "4 -0.276882  0.077087          0  "
      ]
     },
     "execution_count": 44,
     "metadata": {},
     "output_type": "execute_result"
    }
   ],
   "source": [
    "#Merging the original dataset along with the one with principal components and Cluster labels.\n",
    "country_df_final = pd.merge(country_df,final_df_kmeans,left_index=True,right_index=True)\n",
    "country_df_final.head()"
   ]
  },
  {
   "cell_type": "code",
   "execution_count": 45,
   "metadata": {},
   "outputs": [],
   "source": [
    "country_df_final.drop(['PC1','PC2','PC3','PC4','PC5'],axis=1,inplace=True)"
   ]
  },
  {
   "cell_type": "code",
   "execution_count": 46,
   "metadata": {},
   "outputs": [
    {
     "data": {
      "text/html": [
       "<div>\n",
       "<style scoped>\n",
       "    .dataframe tbody tr th:only-of-type {\n",
       "        vertical-align: middle;\n",
       "    }\n",
       "\n",
       "    .dataframe tbody tr th {\n",
       "        vertical-align: top;\n",
       "    }\n",
       "\n",
       "    .dataframe thead th {\n",
       "        text-align: right;\n",
       "    }\n",
       "</style>\n",
       "<table border=\"1\" class=\"dataframe\">\n",
       "  <thead>\n",
       "    <tr style=\"text-align: right;\">\n",
       "      <th></th>\n",
       "      <th>country</th>\n",
       "      <th>child_mort</th>\n",
       "      <th>exports</th>\n",
       "      <th>health</th>\n",
       "      <th>imports</th>\n",
       "      <th>income</th>\n",
       "      <th>inflation</th>\n",
       "      <th>life_expec</th>\n",
       "      <th>total_fer</th>\n",
       "      <th>gdpp</th>\n",
       "      <th>ClusterID</th>\n",
       "    </tr>\n",
       "  </thead>\n",
       "  <tbody>\n",
       "    <tr>\n",
       "      <th>0</th>\n",
       "      <td>Afghanistan</td>\n",
       "      <td>90.2</td>\n",
       "      <td>55.30</td>\n",
       "      <td>41.9174</td>\n",
       "      <td>248.297</td>\n",
       "      <td>1610</td>\n",
       "      <td>9.44</td>\n",
       "      <td>56.2</td>\n",
       "      <td>5.82</td>\n",
       "      <td>553</td>\n",
       "      <td>2</td>\n",
       "    </tr>\n",
       "    <tr>\n",
       "      <th>1</th>\n",
       "      <td>Albania</td>\n",
       "      <td>16.6</td>\n",
       "      <td>1145.20</td>\n",
       "      <td>267.8950</td>\n",
       "      <td>1987.740</td>\n",
       "      <td>9930</td>\n",
       "      <td>4.49</td>\n",
       "      <td>76.3</td>\n",
       "      <td>1.65</td>\n",
       "      <td>4090</td>\n",
       "      <td>0</td>\n",
       "    </tr>\n",
       "    <tr>\n",
       "      <th>2</th>\n",
       "      <td>Algeria</td>\n",
       "      <td>27.3</td>\n",
       "      <td>1712.64</td>\n",
       "      <td>185.9820</td>\n",
       "      <td>1400.440</td>\n",
       "      <td>12900</td>\n",
       "      <td>16.10</td>\n",
       "      <td>76.5</td>\n",
       "      <td>2.89</td>\n",
       "      <td>4460</td>\n",
       "      <td>0</td>\n",
       "    </tr>\n",
       "    <tr>\n",
       "      <th>3</th>\n",
       "      <td>Angola</td>\n",
       "      <td>119.0</td>\n",
       "      <td>2199.19</td>\n",
       "      <td>100.6050</td>\n",
       "      <td>1514.370</td>\n",
       "      <td>5900</td>\n",
       "      <td>22.40</td>\n",
       "      <td>60.1</td>\n",
       "      <td>6.16</td>\n",
       "      <td>3530</td>\n",
       "      <td>2</td>\n",
       "    </tr>\n",
       "    <tr>\n",
       "      <th>4</th>\n",
       "      <td>Antigua and Barbuda</td>\n",
       "      <td>10.3</td>\n",
       "      <td>5551.00</td>\n",
       "      <td>735.6600</td>\n",
       "      <td>7185.800</td>\n",
       "      <td>19100</td>\n",
       "      <td>1.44</td>\n",
       "      <td>76.8</td>\n",
       "      <td>2.13</td>\n",
       "      <td>12200</td>\n",
       "      <td>0</td>\n",
       "    </tr>\n",
       "  </tbody>\n",
       "</table>\n",
       "</div>"
      ],
      "text/plain": [
       "               country  child_mort  exports    health   imports  income  \\\n",
       "0          Afghanistan        90.2    55.30   41.9174   248.297    1610   \n",
       "1              Albania        16.6  1145.20  267.8950  1987.740    9930   \n",
       "2              Algeria        27.3  1712.64  185.9820  1400.440   12900   \n",
       "3               Angola       119.0  2199.19  100.6050  1514.370    5900   \n",
       "4  Antigua and Barbuda        10.3  5551.00  735.6600  7185.800   19100   \n",
       "\n",
       "   inflation  life_expec  total_fer   gdpp  ClusterID  \n",
       "0       9.44        56.2       5.82    553          2  \n",
       "1       4.49        76.3       1.65   4090          0  \n",
       "2      16.10        76.5       2.89   4460          0  \n",
       "3      22.40        60.1       6.16   3530          2  \n",
       "4       1.44        76.8       2.13  12200          0  "
      ]
     },
     "execution_count": 46,
     "metadata": {},
     "output_type": "execute_result"
    }
   ],
   "source": [
    "country_df_final.head()"
   ]
  },
  {
   "cell_type": "markdown",
   "metadata": {},
   "source": [
    "### Cluster Analysis"
   ]
  },
  {
   "cell_type": "markdown",
   "metadata": {},
   "source": [
    "<font color = green> First we can see for the countries in cluster 3 and 4 which got intuitive after the above scatter plot. We know that both the clusters contain only 1 country each. We can see, what these clusters indicate."
   ]
  },
  {
   "cell_type": "code",
   "execution_count": 47,
   "metadata": {},
   "outputs": [
    {
     "data": {
      "text/html": [
       "<div>\n",
       "<style scoped>\n",
       "    .dataframe tbody tr th:only-of-type {\n",
       "        vertical-align: middle;\n",
       "    }\n",
       "\n",
       "    .dataframe tbody tr th {\n",
       "        vertical-align: top;\n",
       "    }\n",
       "\n",
       "    .dataframe thead th {\n",
       "        text-align: right;\n",
       "    }\n",
       "</style>\n",
       "<table border=\"1\" class=\"dataframe\">\n",
       "  <thead>\n",
       "    <tr style=\"text-align: right;\">\n",
       "      <th></th>\n",
       "      <th>country</th>\n",
       "      <th>child_mort</th>\n",
       "      <th>exports</th>\n",
       "      <th>health</th>\n",
       "      <th>imports</th>\n",
       "      <th>income</th>\n",
       "      <th>inflation</th>\n",
       "      <th>life_expec</th>\n",
       "      <th>total_fer</th>\n",
       "      <th>gdpp</th>\n",
       "      <th>ClusterID</th>\n",
       "    </tr>\n",
       "  </thead>\n",
       "  <tbody>\n",
       "    <tr>\n",
       "      <th>113</th>\n",
       "      <td>Nigeria</td>\n",
       "      <td>130.0</td>\n",
       "      <td>589.49</td>\n",
       "      <td>118.131</td>\n",
       "      <td>405.42</td>\n",
       "      <td>5150</td>\n",
       "      <td>104.0</td>\n",
       "      <td>60.5</td>\n",
       "      <td>5.84</td>\n",
       "      <td>2330</td>\n",
       "      <td>3</td>\n",
       "    </tr>\n",
       "  </tbody>\n",
       "</table>\n",
       "</div>"
      ],
      "text/plain": [
       "     country  child_mort  exports   health  imports  income  inflation  \\\n",
       "113  Nigeria       130.0   589.49  118.131   405.42    5150      104.0   \n",
       "\n",
       "     life_expec  total_fer  gdpp  ClusterID  \n",
       "113        60.5       5.84  2330          3  "
      ]
     },
     "execution_count": 47,
     "metadata": {},
     "output_type": "execute_result"
    }
   ],
   "source": [
    "country_df_final.loc[country_df_final['ClusterID']==3]"
   ]
  },
  {
   "cell_type": "code",
   "execution_count": 48,
   "metadata": {},
   "outputs": [
    {
     "data": {
      "text/html": [
       "<div>\n",
       "<style scoped>\n",
       "    .dataframe tbody tr th:only-of-type {\n",
       "        vertical-align: middle;\n",
       "    }\n",
       "\n",
       "    .dataframe tbody tr th {\n",
       "        vertical-align: top;\n",
       "    }\n",
       "\n",
       "    .dataframe thead th {\n",
       "        text-align: right;\n",
       "    }\n",
       "</style>\n",
       "<table border=\"1\" class=\"dataframe\">\n",
       "  <thead>\n",
       "    <tr style=\"text-align: right;\">\n",
       "      <th></th>\n",
       "      <th>country</th>\n",
       "      <th>child_mort</th>\n",
       "      <th>exports</th>\n",
       "      <th>health</th>\n",
       "      <th>imports</th>\n",
       "      <th>income</th>\n",
       "      <th>inflation</th>\n",
       "      <th>life_expec</th>\n",
       "      <th>total_fer</th>\n",
       "      <th>gdpp</th>\n",
       "      <th>ClusterID</th>\n",
       "    </tr>\n",
       "  </thead>\n",
       "  <tbody>\n",
       "    <tr>\n",
       "      <th>91</th>\n",
       "      <td>Luxembourg</td>\n",
       "      <td>2.8</td>\n",
       "      <td>183750.0</td>\n",
       "      <td>8158.5</td>\n",
       "      <td>149100.0</td>\n",
       "      <td>91700</td>\n",
       "      <td>3.62</td>\n",
       "      <td>81.3</td>\n",
       "      <td>1.63</td>\n",
       "      <td>105000</td>\n",
       "      <td>4</td>\n",
       "    </tr>\n",
       "  </tbody>\n",
       "</table>\n",
       "</div>"
      ],
      "text/plain": [
       "       country  child_mort   exports  health   imports  income  inflation  \\\n",
       "91  Luxembourg         2.8  183750.0  8158.5  149100.0   91700       3.62   \n",
       "\n",
       "    life_expec  total_fer    gdpp  ClusterID  \n",
       "91        81.3       1.63  105000          4  "
      ]
     },
     "execution_count": 48,
     "metadata": {},
     "output_type": "execute_result"
    }
   ],
   "source": [
    "country_df_final.loc[country_df_final['ClusterID']==4]"
   ]
  },
  {
   "cell_type": "code",
   "execution_count": 49,
   "metadata": {},
   "outputs": [
    {
     "data": {
      "image/png": "[encoded data removed]",
      "text/plain": [
       "<Figure size 864x504 with 4 Axes>"
      ]
     },
     "metadata": {
      "needs_background": "light"
     },
     "output_type": "display_data"
    }
   ],
   "source": [
    "#Plot between GDPP and various important features segregated by clusters for more intuitions.\n",
    "plt.figure(figsize=(12,7))\n",
    "plt.subplot(2,2,1)\n",
    "sns.scatterplot(x='gdpp',y='income',hue = 'ClusterID',data=country_df_final,palette=['green','orange','brown','dodgerblue','red'])\n",
    "plt.xlabel('GDP per Capita')\n",
    "plt.subplot(2,2,2)\n",
    "sns.scatterplot(x='gdpp',y='child_mort',hue = 'ClusterID',data=country_df_final,palette=['green','orange','brown','dodgerblue','red'])\n",
    "plt.xlabel('GDP per Capita')\n",
    "plt.subplot(2,2,3)\n",
    "sns.scatterplot(x='gdpp',y='health',hue = 'ClusterID',data=country_df_final,palette=['green','orange','brown','dodgerblue','red'])\n",
    "plt.xlabel('GDP per Capita')\n",
    "plt.subplot(2,2,4)\n",
    "sns.scatterplot(x='gdpp',y='inflation',hue = 'ClusterID',data=country_df_final,palette=['green','orange','brown','dodgerblue','red'])\n",
    "plt.xlabel('GDP per Capita')\n",
    "plt.show()"
   ]
  },
  {
   "cell_type": "markdown",
   "metadata": {},
   "source": [
    "<font color = green> From the above visualisations we can see that, Cluster 1 and Cluster 4 are the best performing or in other terms developed countries. These countries are having good GDP per capita as well as good health indicators as well as good income. We could find that the health indicator as well as income are kind of having linear relationship with the GDP per capita with these clusters at the higher end. We are getting a fairly intuitive idea of which clusters we need to concentrate(Clusters 0,2 and 3)."
   ]
  },
  {
   "cell_type": "code",
   "execution_count": 50,
   "metadata": {},
   "outputs": [
    {
     "data": {
      "image/png": "[encoded data removed]",
      "text/plain": [
       "<Figure size 432x288 with 1 Axes>"
      ]
     },
     "metadata": {
      "needs_background": "light"
     },
     "output_type": "display_data"
    }
   ],
   "source": [
    "#Imports vs Exports with different Clusters\n",
    "plt.figure(figsize=(6,4))\n",
    "sns.scatterplot(x='imports',y='exports',hue = 'ClusterID',data=country_df_final,palette=['green','orange','brown','dodgerblue','red'])\n",
    "plt.show()"
   ]
  },
  {
   "cell_type": "code",
   "execution_count": 51,
   "metadata": {},
   "outputs": [],
   "source": [
    "child_mort_mean = pd.DataFrame(country_df_final.groupby([\"ClusterID\"]).child_mort.mean())\n",
    "exports_mean = pd.DataFrame(country_df_final.groupby([\"ClusterID\"]).exports.mean())\n",
    "health_mean = pd.DataFrame(country_df_final.groupby([\"ClusterID\"]).health.mean())\n",
    "imports_mean = pd.DataFrame(country_df_final.groupby([\"ClusterID\"]).imports.mean())\n",
    "income_mean = pd.DataFrame(country_df_final.groupby([\"ClusterID\"]).income.mean())\n",
    "inflation_mean = pd.DataFrame(country_df_final.groupby([\"ClusterID\"]).inflation.mean())\n",
    "life_expec_mean = pd.DataFrame(country_df_final.groupby([\"ClusterID\"]).life_expec.mean())\n",
    "total_fer_mean = pd.DataFrame(country_df_final.groupby([\"ClusterID\"]).total_fer.mean())\n",
    "gdpp_mean = pd.DataFrame(country_df_final.groupby([\"ClusterID\"]).gdpp.mean())"
   ]
  },
  {
   "cell_type": "code",
   "execution_count": 52,
   "metadata": {},
   "outputs": [],
   "source": [
    "df = pd.concat([pd.Series([0,1,2,3,4]),child_mort_mean,exports_mean,health_mean,imports_mean,income_mean,inflation_mean,life_expec_mean,total_fer_mean,gdpp_mean], axis=1)"
   ]
  },
  {
   "cell_type": "code",
   "execution_count": 53,
   "metadata": {},
   "outputs": [
    {
     "data": {
      "text/html": [
       "<div>\n",
       "<style scoped>\n",
       "    .dataframe tbody tr th:only-of-type {\n",
       "        vertical-align: middle;\n",
       "    }\n",
       "\n",
       "    .dataframe tbody tr th {\n",
       "        vertical-align: top;\n",
       "    }\n",
       "\n",
       "    .dataframe thead th {\n",
       "        text-align: right;\n",
       "    }\n",
       "</style>\n",
       "<table border=\"1\" class=\"dataframe\">\n",
       "  <thead>\n",
       "    <tr style=\"text-align: right;\">\n",
       "      <th></th>\n",
       "      <th>Cluster</th>\n",
       "      <th>child_mort_mean</th>\n",
       "      <th>exports_mean</th>\n",
       "      <th>health_mean</th>\n",
       "      <th>imports_mean</th>\n",
       "      <th>income_mean</th>\n",
       "      <th>inflation_mean</th>\n",
       "      <th>life_expec_mean</th>\n",
       "      <th>total_fer_mean</th>\n",
       "      <th>gdpp_mean</th>\n",
       "    </tr>\n",
       "  </thead>\n",
       "  <tbody>\n",
       "    <tr>\n",
       "      <th>0</th>\n",
       "      <td>0</td>\n",
       "      <td>20.918182</td>\n",
       "      <td>3366.778392</td>\n",
       "      <td>482.897845</td>\n",
       "      <td>3461.435467</td>\n",
       "      <td>13455.568182</td>\n",
       "      <td>7.295045</td>\n",
       "      <td>73.222727</td>\n",
       "      <td>2.242159</td>\n",
       "      <td>7332.636364</td>\n",
       "    </tr>\n",
       "    <tr>\n",
       "      <th>1</th>\n",
       "      <td>1</td>\n",
       "      <td>5.006667</td>\n",
       "      <td>23900.726667</td>\n",
       "      <td>4010.316333</td>\n",
       "      <td>20228.370000</td>\n",
       "      <td>46676.666667</td>\n",
       "      <td>2.741567</td>\n",
       "      <td>80.480000</td>\n",
       "      <td>1.791667</td>\n",
       "      <td>44103.333333</td>\n",
       "    </tr>\n",
       "    <tr>\n",
       "      <th>2</th>\n",
       "      <td>2</td>\n",
       "      <td>90.793617</td>\n",
       "      <td>885.224660</td>\n",
       "      <td>114.751355</td>\n",
       "      <td>835.999170</td>\n",
       "      <td>3870.702128</td>\n",
       "      <td>9.951809</td>\n",
       "      <td>59.212766</td>\n",
       "      <td>4.974043</td>\n",
       "      <td>1900.255319</td>\n",
       "    </tr>\n",
       "    <tr>\n",
       "      <th>3</th>\n",
       "      <td>3</td>\n",
       "      <td>130.000000</td>\n",
       "      <td>589.490000</td>\n",
       "      <td>118.131000</td>\n",
       "      <td>405.420000</td>\n",
       "      <td>5150.000000</td>\n",
       "      <td>104.000000</td>\n",
       "      <td>60.500000</td>\n",
       "      <td>5.840000</td>\n",
       "      <td>2330.000000</td>\n",
       "    </tr>\n",
       "    <tr>\n",
       "      <th>4</th>\n",
       "      <td>4</td>\n",
       "      <td>2.800000</td>\n",
       "      <td>183750.000000</td>\n",
       "      <td>8158.500000</td>\n",
       "      <td>149100.000000</td>\n",
       "      <td>91700.000000</td>\n",
       "      <td>3.620000</td>\n",
       "      <td>81.300000</td>\n",
       "      <td>1.630000</td>\n",
       "      <td>105000.000000</td>\n",
       "    </tr>\n",
       "  </tbody>\n",
       "</table>\n",
       "</div>"
      ],
      "text/plain": [
       "   Cluster  child_mort_mean   exports_mean  health_mean   imports_mean  \\\n",
       "0        0        20.918182    3366.778392   482.897845    3461.435467   \n",
       "1        1         5.006667   23900.726667  4010.316333   20228.370000   \n",
       "2        2        90.793617     885.224660   114.751355     835.999170   \n",
       "3        3       130.000000     589.490000   118.131000     405.420000   \n",
       "4        4         2.800000  183750.000000  8158.500000  149100.000000   \n",
       "\n",
       "    income_mean  inflation_mean  life_expec_mean  total_fer_mean  \\\n",
       "0  13455.568182        7.295045        73.222727        2.242159   \n",
       "1  46676.666667        2.741567        80.480000        1.791667   \n",
       "2   3870.702128        9.951809        59.212766        4.974043   \n",
       "3   5150.000000      104.000000        60.500000        5.840000   \n",
       "4  91700.000000        3.620000        81.300000        1.630000   \n",
       "\n",
       "       gdpp_mean  \n",
       "0    7332.636364  \n",
       "1   44103.333333  \n",
       "2    1900.255319  \n",
       "3    2330.000000  \n",
       "4  105000.000000  "
      ]
     },
     "execution_count": 53,
     "metadata": {},
     "output_type": "execute_result"
    }
   ],
   "source": [
    "df.columns = [\"Cluster\",\"child_mort_mean\",\"exports_mean\",\"health_mean\",\"imports_mean\",\"income_mean\",\"inflation_mean\",\"life_expec_mean\",\"total_fer_mean\",\"gdpp_mean\"]\n",
    "df"
   ]
  },
  {
   "cell_type": "markdown",
   "metadata": {},
   "source": [
    "<font color = green> The above statistics for each feature for each cluster helps us identify which are the clusters having underperforming contries and then we can deep dive into the cluster. Out of all the features we can cooncentrate more on `gdpp,child_mort and income` which are kind of direct indicators that segregates each cluster."
   ]
  },
  {
   "cell_type": "code",
   "execution_count": 54,
   "metadata": {},
   "outputs": [
    {
     "data": {
      "text/html": [
       "<div>\n",
       "<style scoped>\n",
       "    .dataframe tbody tr th:only-of-type {\n",
       "        vertical-align: middle;\n",
       "    }\n",
       "\n",
       "    .dataframe tbody tr th {\n",
       "        vertical-align: top;\n",
       "    }\n",
       "\n",
       "    .dataframe thead th {\n",
       "        text-align: right;\n",
       "    }\n",
       "</style>\n",
       "<table border=\"1\" class=\"dataframe\">\n",
       "  <thead>\n",
       "    <tr style=\"text-align: right;\">\n",
       "      <th></th>\n",
       "      <th>Cluster</th>\n",
       "      <th>gdpp_mean</th>\n",
       "      <th>child_mort_mean</th>\n",
       "      <th>income_mean</th>\n",
       "    </tr>\n",
       "  </thead>\n",
       "  <tbody>\n",
       "    <tr>\n",
       "      <th>0</th>\n",
       "      <td>0</td>\n",
       "      <td>7332.636364</td>\n",
       "      <td>20.918182</td>\n",
       "      <td>13455.568182</td>\n",
       "    </tr>\n",
       "    <tr>\n",
       "      <th>1</th>\n",
       "      <td>1</td>\n",
       "      <td>44103.333333</td>\n",
       "      <td>5.006667</td>\n",
       "      <td>46676.666667</td>\n",
       "    </tr>\n",
       "    <tr>\n",
       "      <th>2</th>\n",
       "      <td>2</td>\n",
       "      <td>1900.255319</td>\n",
       "      <td>90.793617</td>\n",
       "      <td>3870.702128</td>\n",
       "    </tr>\n",
       "    <tr>\n",
       "      <th>3</th>\n",
       "      <td>3</td>\n",
       "      <td>2330.000000</td>\n",
       "      <td>130.000000</td>\n",
       "      <td>5150.000000</td>\n",
       "    </tr>\n",
       "    <tr>\n",
       "      <th>4</th>\n",
       "      <td>4</td>\n",
       "      <td>105000.000000</td>\n",
       "      <td>2.800000</td>\n",
       "      <td>91700.000000</td>\n",
       "    </tr>\n",
       "  </tbody>\n",
       "</table>\n",
       "</div>"
      ],
      "text/plain": [
       "   Cluster      gdpp_mean  child_mort_mean   income_mean\n",
       "0        0    7332.636364        20.918182  13455.568182\n",
       "1        1   44103.333333         5.006667  46676.666667\n",
       "2        2    1900.255319        90.793617   3870.702128\n",
       "3        3    2330.000000       130.000000   5150.000000\n",
       "4        4  105000.000000         2.800000  91700.000000"
      ]
     },
     "execution_count": 54,
     "metadata": {},
     "output_type": "execute_result"
    }
   ],
   "source": [
    "cols= ['Cluster','gdpp_mean','child_mort_mean','income_mean']\n",
    "df[cols]"
   ]
  },
  {
   "cell_type": "markdown",
   "metadata": {},
   "source": [
    "<font color = green> 1. The first point we can make clearly is about the `Cluster no 4` - which is having an high gdp and income and very less child mortality rate. And also as seen above Cluster 4 contains the couontry `Luxembourg`. So surely, this is not a  country which need to consider for our aid. <br>2. `Cluster Number 1` is also having significantly high value for gdpp and income(even though less than Cluster 4) and low child mortality ratio. Hence can be ignored for our aid program. We can see which all countries come under this cluster in a short while. <br>3. Now we are left out with 3 clusters - `Cluster 0,2 and 3`, out of which we know Cluster 3 contains `Nigeria and is like standout cluster`, having very low gdpp and income and where the child mortality rate is very very low and would be one of the country that needs to be considered for the aid.<br> 4. `Cluster 2` is some other cluster which we need to see for. We can take it forward to analyse countries within Cluster 2 and see which comes the backward countries in that cluster."
   ]
  },
  {
   "cell_type": "code",
   "execution_count": 55,
   "metadata": {},
   "outputs": [],
   "source": [
    "#We will go and analyse for the Cluster 2.\n",
    "country_df_cluster2 = country_df_final.loc[country_df_final.ClusterID ==2]"
   ]
  },
  {
   "cell_type": "code",
   "execution_count": 56,
   "metadata": {},
   "outputs": [
    {
     "data": {
      "text/html": [
       "<div>\n",
       "<style scoped>\n",
       "    .dataframe tbody tr th:only-of-type {\n",
       "        vertical-align: middle;\n",
       "    }\n",
       "\n",
       "    .dataframe tbody tr th {\n",
       "        vertical-align: top;\n",
       "    }\n",
       "\n",
       "    .dataframe thead th {\n",
       "        text-align: right;\n",
       "    }\n",
       "</style>\n",
       "<table border=\"1\" class=\"dataframe\">\n",
       "  <thead>\n",
       "    <tr style=\"text-align: right;\">\n",
       "      <th></th>\n",
       "      <th>country</th>\n",
       "      <th>child_mort</th>\n",
       "      <th>exports</th>\n",
       "      <th>health</th>\n",
       "      <th>imports</th>\n",
       "      <th>income</th>\n",
       "      <th>inflation</th>\n",
       "      <th>life_expec</th>\n",
       "      <th>total_fer</th>\n",
       "      <th>gdpp</th>\n",
       "      <th>ClusterID</th>\n",
       "    </tr>\n",
       "  </thead>\n",
       "  <tbody>\n",
       "    <tr>\n",
       "      <th>0</th>\n",
       "      <td>Afghanistan</td>\n",
       "      <td>90.2</td>\n",
       "      <td>55.300</td>\n",
       "      <td>41.9174</td>\n",
       "      <td>248.297</td>\n",
       "      <td>1610</td>\n",
       "      <td>9.440</td>\n",
       "      <td>56.2</td>\n",
       "      <td>5.82</td>\n",
       "      <td>553</td>\n",
       "      <td>2</td>\n",
       "    </tr>\n",
       "    <tr>\n",
       "      <th>3</th>\n",
       "      <td>Angola</td>\n",
       "      <td>119.0</td>\n",
       "      <td>2199.190</td>\n",
       "      <td>100.6050</td>\n",
       "      <td>1514.370</td>\n",
       "      <td>5900</td>\n",
       "      <td>22.400</td>\n",
       "      <td>60.1</td>\n",
       "      <td>6.16</td>\n",
       "      <td>3530</td>\n",
       "      <td>2</td>\n",
       "    </tr>\n",
       "    <tr>\n",
       "      <th>17</th>\n",
       "      <td>Benin</td>\n",
       "      <td>111.0</td>\n",
       "      <td>180.404</td>\n",
       "      <td>31.0780</td>\n",
       "      <td>281.976</td>\n",
       "      <td>1820</td>\n",
       "      <td>0.885</td>\n",
       "      <td>61.8</td>\n",
       "      <td>5.36</td>\n",
       "      <td>758</td>\n",
       "      <td>2</td>\n",
       "    </tr>\n",
       "    <tr>\n",
       "      <th>21</th>\n",
       "      <td>Botswana</td>\n",
       "      <td>52.5</td>\n",
       "      <td>2768.600</td>\n",
       "      <td>527.0500</td>\n",
       "      <td>3257.550</td>\n",
       "      <td>13300</td>\n",
       "      <td>8.920</td>\n",
       "      <td>57.1</td>\n",
       "      <td>2.88</td>\n",
       "      <td>6350</td>\n",
       "      <td>2</td>\n",
       "    </tr>\n",
       "    <tr>\n",
       "      <th>25</th>\n",
       "      <td>Burkina Faso</td>\n",
       "      <td>116.0</td>\n",
       "      <td>110.400</td>\n",
       "      <td>38.7550</td>\n",
       "      <td>170.200</td>\n",
       "      <td>1430</td>\n",
       "      <td>6.810</td>\n",
       "      <td>57.9</td>\n",
       "      <td>5.87</td>\n",
       "      <td>575</td>\n",
       "      <td>2</td>\n",
       "    </tr>\n",
       "  </tbody>\n",
       "</table>\n",
       "</div>"
      ],
      "text/plain": [
       "         country  child_mort   exports    health   imports  income  inflation  \\\n",
       "0    Afghanistan        90.2    55.300   41.9174   248.297    1610      9.440   \n",
       "3         Angola       119.0  2199.190  100.6050  1514.370    5900     22.400   \n",
       "17         Benin       111.0   180.404   31.0780   281.976    1820      0.885   \n",
       "21      Botswana        52.5  2768.600  527.0500  3257.550   13300      8.920   \n",
       "25  Burkina Faso       116.0   110.400   38.7550   170.200    1430      6.810   \n",
       "\n",
       "    life_expec  total_fer  gdpp  ClusterID  \n",
       "0         56.2       5.82   553          2  \n",
       "3         60.1       6.16  3530          2  \n",
       "17        61.8       5.36   758          2  \n",
       "21        57.1       2.88  6350          2  \n",
       "25        57.9       5.87   575          2  "
      ]
     },
     "execution_count": 56,
     "metadata": {},
     "output_type": "execute_result"
    }
   ],
   "source": [
    "country_df_cluster2.head()"
   ]
  },
  {
   "cell_type": "code",
   "execution_count": 57,
   "metadata": {},
   "outputs": [],
   "source": [
    "country_df_cluster2_gdp = country_df_cluster2.sort_values(['gdpp'], ascending=[False])\n",
    "country_df_cluster2_income = country_df_cluster2.sort_values(['income'], ascending=[False])\n",
    "country_df_cluster2_child_mort = country_df_cluster2.sort_values(['child_mort'], ascending=[True])"
   ]
  },
  {
   "cell_type": "code",
   "execution_count": 58,
   "metadata": {},
   "outputs": [
    {
     "data": {
      "text/html": [
       "<div>\n",
       "<style scoped>\n",
       "    .dataframe tbody tr th:only-of-type {\n",
       "        vertical-align: middle;\n",
       "    }\n",
       "\n",
       "    .dataframe tbody tr th {\n",
       "        vertical-align: top;\n",
       "    }\n",
       "\n",
       "    .dataframe thead th {\n",
       "        text-align: right;\n",
       "    }\n",
       "</style>\n",
       "<table border=\"1\" class=\"dataframe\">\n",
       "  <thead>\n",
       "    <tr style=\"text-align: right;\">\n",
       "      <th></th>\n",
       "      <th>country</th>\n",
       "      <th>gdpp</th>\n",
       "      <th>child_mort</th>\n",
       "      <th>income</th>\n",
       "    </tr>\n",
       "  </thead>\n",
       "  <tbody>\n",
       "    <tr>\n",
       "      <th>132</th>\n",
       "      <td>Sierra Leone</td>\n",
       "      <td>399</td>\n",
       "      <td>160.0</td>\n",
       "      <td>1220</td>\n",
       "    </tr>\n",
       "    <tr>\n",
       "      <th>112</th>\n",
       "      <td>Niger</td>\n",
       "      <td>348</td>\n",
       "      <td>123.0</td>\n",
       "      <td>814</td>\n",
       "    </tr>\n",
       "    <tr>\n",
       "      <th>37</th>\n",
       "      <td>Congo, Dem. Rep.</td>\n",
       "      <td>334</td>\n",
       "      <td>116.0</td>\n",
       "      <td>609</td>\n",
       "    </tr>\n",
       "    <tr>\n",
       "      <th>88</th>\n",
       "      <td>Liberia</td>\n",
       "      <td>327</td>\n",
       "      <td>89.3</td>\n",
       "      <td>700</td>\n",
       "    </tr>\n",
       "    <tr>\n",
       "      <th>26</th>\n",
       "      <td>Burundi</td>\n",
       "      <td>231</td>\n",
       "      <td>93.6</td>\n",
       "      <td>764</td>\n",
       "    </tr>\n",
       "  </tbody>\n",
       "</table>\n",
       "</div>"
      ],
      "text/plain": [
       "              country  gdpp  child_mort  income\n",
       "132      Sierra Leone   399       160.0    1220\n",
       "112             Niger   348       123.0     814\n",
       "37   Congo, Dem. Rep.   334       116.0     609\n",
       "88            Liberia   327        89.3     700\n",
       "26            Burundi   231        93.6     764"
      ]
     },
     "execution_count": 58,
     "metadata": {},
     "output_type": "execute_result"
    }
   ],
   "source": [
    "cols = ['country','gdpp','child_mort','income']\n",
    "country_df_cluster2_gdp[cols].tail()"
   ]
  },
  {
   "cell_type": "markdown",
   "metadata": {},
   "source": [
    "<font color = green> We can see that if we sort the cluster 2 countries based on the GDPP, we can see the 5 economically backward countries based on gdpp are the coutries - `Sierra Leone,Niger,Democratic Republic of Congo,Liberia,Burundi`. GDPP of these countries are way less than the average GDPP of this cluster itself as well as the income is also way less than the mean par of `3870` for this cluster."
   ]
  },
  {
   "cell_type": "code",
   "execution_count": 59,
   "metadata": {},
   "outputs": [
    {
     "data": {
      "text/html": [
       "<div>\n",
       "<style scoped>\n",
       "    .dataframe tbody tr th:only-of-type {\n",
       "        vertical-align: middle;\n",
       "    }\n",
       "\n",
       "    .dataframe tbody tr th {\n",
       "        vertical-align: top;\n",
       "    }\n",
       "\n",
       "    .dataframe thead th {\n",
       "        text-align: right;\n",
       "    }\n",
       "</style>\n",
       "<table border=\"1\" class=\"dataframe\">\n",
       "  <thead>\n",
       "    <tr style=\"text-align: right;\">\n",
       "      <th></th>\n",
       "      <th>country</th>\n",
       "      <th>gdpp</th>\n",
       "      <th>child_mort</th>\n",
       "      <th>income</th>\n",
       "    </tr>\n",
       "  </thead>\n",
       "  <tbody>\n",
       "    <tr>\n",
       "      <th>31</th>\n",
       "      <td>Central African Republic</td>\n",
       "      <td>446</td>\n",
       "      <td>149.0</td>\n",
       "      <td>888</td>\n",
       "    </tr>\n",
       "    <tr>\n",
       "      <th>112</th>\n",
       "      <td>Niger</td>\n",
       "      <td>348</td>\n",
       "      <td>123.0</td>\n",
       "      <td>814</td>\n",
       "    </tr>\n",
       "    <tr>\n",
       "      <th>26</th>\n",
       "      <td>Burundi</td>\n",
       "      <td>231</td>\n",
       "      <td>93.6</td>\n",
       "      <td>764</td>\n",
       "    </tr>\n",
       "    <tr>\n",
       "      <th>88</th>\n",
       "      <td>Liberia</td>\n",
       "      <td>327</td>\n",
       "      <td>89.3</td>\n",
       "      <td>700</td>\n",
       "    </tr>\n",
       "    <tr>\n",
       "      <th>37</th>\n",
       "      <td>Congo, Dem. Rep.</td>\n",
       "      <td>334</td>\n",
       "      <td>116.0</td>\n",
       "      <td>609</td>\n",
       "    </tr>\n",
       "  </tbody>\n",
       "</table>\n",
       "</div>"
      ],
      "text/plain": [
       "                      country  gdpp  child_mort  income\n",
       "31   Central African Republic   446       149.0     888\n",
       "112                     Niger   348       123.0     814\n",
       "26                    Burundi   231        93.6     764\n",
       "88                    Liberia   327        89.3     700\n",
       "37           Congo, Dem. Rep.   334       116.0     609"
      ]
     },
     "execution_count": 59,
     "metadata": {},
     "output_type": "execute_result"
    }
   ],
   "source": [
    "country_df_cluster2_income[cols].tail()"
   ]
  },
  {
   "cell_type": "markdown",
   "metadata": {},
   "source": [
    "<font color = green> We now sorted the countries based on the income and the lowest that can be ranked on the income are `Central African Republic,Niger,Burundi,Liberia,Democratic Republic of Congo`, out of which 4 countries are the one listed with lowest gdpp as well."
   ]
  },
  {
   "cell_type": "code",
   "execution_count": 60,
   "metadata": {},
   "outputs": [
    {
     "data": {
      "text/html": [
       "<div>\n",
       "<style scoped>\n",
       "    .dataframe tbody tr th:only-of-type {\n",
       "        vertical-align: middle;\n",
       "    }\n",
       "\n",
       "    .dataframe tbody tr th {\n",
       "        vertical-align: top;\n",
       "    }\n",
       "\n",
       "    .dataframe thead th {\n",
       "        text-align: right;\n",
       "    }\n",
       "</style>\n",
       "<table border=\"1\" class=\"dataframe\">\n",
       "  <thead>\n",
       "    <tr style=\"text-align: right;\">\n",
       "      <th></th>\n",
       "      <th>country</th>\n",
       "      <th>gdpp</th>\n",
       "      <th>child_mort</th>\n",
       "      <th>income</th>\n",
       "    </tr>\n",
       "  </thead>\n",
       "  <tbody>\n",
       "    <tr>\n",
       "      <th>97</th>\n",
       "      <td>Mali</td>\n",
       "      <td>708</td>\n",
       "      <td>137.0</td>\n",
       "      <td>1870</td>\n",
       "    </tr>\n",
       "    <tr>\n",
       "      <th>31</th>\n",
       "      <td>Central African Republic</td>\n",
       "      <td>446</td>\n",
       "      <td>149.0</td>\n",
       "      <td>888</td>\n",
       "    </tr>\n",
       "    <tr>\n",
       "      <th>32</th>\n",
       "      <td>Chad</td>\n",
       "      <td>897</td>\n",
       "      <td>150.0</td>\n",
       "      <td>1930</td>\n",
       "    </tr>\n",
       "    <tr>\n",
       "      <th>132</th>\n",
       "      <td>Sierra Leone</td>\n",
       "      <td>399</td>\n",
       "      <td>160.0</td>\n",
       "      <td>1220</td>\n",
       "    </tr>\n",
       "    <tr>\n",
       "      <th>66</th>\n",
       "      <td>Haiti</td>\n",
       "      <td>662</td>\n",
       "      <td>208.0</td>\n",
       "      <td>1500</td>\n",
       "    </tr>\n",
       "  </tbody>\n",
       "</table>\n",
       "</div>"
      ],
      "text/plain": [
       "                      country  gdpp  child_mort  income\n",
       "97                       Mali   708       137.0    1870\n",
       "31   Central African Republic   446       149.0     888\n",
       "32                       Chad   897       150.0    1930\n",
       "132              Sierra Leone   399       160.0    1220\n",
       "66                      Haiti   662       208.0    1500"
      ]
     },
     "execution_count": 60,
     "metadata": {},
     "output_type": "execute_result"
    }
   ],
   "source": [
    "country_df_cluster2_child_mort[cols].tail()"
   ]
  },
  {
   "cell_type": "markdown",
   "metadata": {},
   "source": [
    "<font color = green> Here we can see that countries which come under the highest child mortality ratio. Even though these countries are having coparatively better income,their gdpp is pretty low as well as child mortality is very high. Countries here are `Mali,Central African Republic,Chad,Sierra Leone,Haiti`"
   ]
  },
  {
   "cell_type": "markdown",
   "metadata": {},
   "source": [
    "<font color = red> Now what is left is to simply analyse the Cluster 0 as well to find out is there any worst performing countries there which we would have missed out from Cluster2"
   ]
  },
  {
   "cell_type": "code",
   "execution_count": 61,
   "metadata": {},
   "outputs": [],
   "source": [
    "#for the Cluster 0.\n",
    "country_df_cluster0 = country_df_final.loc[country_df_final.ClusterID ==0]"
   ]
  },
  {
   "cell_type": "code",
   "execution_count": 62,
   "metadata": {},
   "outputs": [
    {
     "data": {
      "text/html": [
       "<div>\n",
       "<style scoped>\n",
       "    .dataframe tbody tr th:only-of-type {\n",
       "        vertical-align: middle;\n",
       "    }\n",
       "\n",
       "    .dataframe tbody tr th {\n",
       "        vertical-align: top;\n",
       "    }\n",
       "\n",
       "    .dataframe thead th {\n",
       "        text-align: right;\n",
       "    }\n",
       "</style>\n",
       "<table border=\"1\" class=\"dataframe\">\n",
       "  <thead>\n",
       "    <tr style=\"text-align: right;\">\n",
       "      <th></th>\n",
       "      <th>country</th>\n",
       "      <th>child_mort</th>\n",
       "      <th>exports</th>\n",
       "      <th>health</th>\n",
       "      <th>imports</th>\n",
       "      <th>income</th>\n",
       "      <th>inflation</th>\n",
       "      <th>life_expec</th>\n",
       "      <th>total_fer</th>\n",
       "      <th>gdpp</th>\n",
       "      <th>ClusterID</th>\n",
       "    </tr>\n",
       "  </thead>\n",
       "  <tbody>\n",
       "    <tr>\n",
       "      <th>1</th>\n",
       "      <td>Albania</td>\n",
       "      <td>16.6</td>\n",
       "      <td>1145.20</td>\n",
       "      <td>267.895</td>\n",
       "      <td>1987.74</td>\n",
       "      <td>9930</td>\n",
       "      <td>4.49</td>\n",
       "      <td>76.3</td>\n",
       "      <td>1.65</td>\n",
       "      <td>4090</td>\n",
       "      <td>0</td>\n",
       "    </tr>\n",
       "    <tr>\n",
       "      <th>2</th>\n",
       "      <td>Algeria</td>\n",
       "      <td>27.3</td>\n",
       "      <td>1712.64</td>\n",
       "      <td>185.982</td>\n",
       "      <td>1400.44</td>\n",
       "      <td>12900</td>\n",
       "      <td>16.10</td>\n",
       "      <td>76.5</td>\n",
       "      <td>2.89</td>\n",
       "      <td>4460</td>\n",
       "      <td>0</td>\n",
       "    </tr>\n",
       "    <tr>\n",
       "      <th>4</th>\n",
       "      <td>Antigua and Barbuda</td>\n",
       "      <td>10.3</td>\n",
       "      <td>5551.00</td>\n",
       "      <td>735.660</td>\n",
       "      <td>7185.80</td>\n",
       "      <td>19100</td>\n",
       "      <td>1.44</td>\n",
       "      <td>76.8</td>\n",
       "      <td>2.13</td>\n",
       "      <td>12200</td>\n",
       "      <td>0</td>\n",
       "    </tr>\n",
       "    <tr>\n",
       "      <th>5</th>\n",
       "      <td>Argentina</td>\n",
       "      <td>14.5</td>\n",
       "      <td>1946.70</td>\n",
       "      <td>834.300</td>\n",
       "      <td>1648.00</td>\n",
       "      <td>18700</td>\n",
       "      <td>20.90</td>\n",
       "      <td>75.8</td>\n",
       "      <td>2.37</td>\n",
       "      <td>10300</td>\n",
       "      <td>0</td>\n",
       "    </tr>\n",
       "    <tr>\n",
       "      <th>6</th>\n",
       "      <td>Armenia</td>\n",
       "      <td>18.1</td>\n",
       "      <td>669.76</td>\n",
       "      <td>141.680</td>\n",
       "      <td>1458.66</td>\n",
       "      <td>6700</td>\n",
       "      <td>7.77</td>\n",
       "      <td>73.3</td>\n",
       "      <td>1.69</td>\n",
       "      <td>3220</td>\n",
       "      <td>0</td>\n",
       "    </tr>\n",
       "  </tbody>\n",
       "</table>\n",
       "</div>"
      ],
      "text/plain": [
       "               country  child_mort  exports   health  imports  income  \\\n",
       "1              Albania        16.6  1145.20  267.895  1987.74    9930   \n",
       "2              Algeria        27.3  1712.64  185.982  1400.44   12900   \n",
       "4  Antigua and Barbuda        10.3  5551.00  735.660  7185.80   19100   \n",
       "5            Argentina        14.5  1946.70  834.300  1648.00   18700   \n",
       "6              Armenia        18.1   669.76  141.680  1458.66    6700   \n",
       "\n",
       "   inflation  life_expec  total_fer   gdpp  ClusterID  \n",
       "1       4.49        76.3       1.65   4090          0  \n",
       "2      16.10        76.5       2.89   4460          0  \n",
       "4       1.44        76.8       2.13  12200          0  \n",
       "5      20.90        75.8       2.37  10300          0  \n",
       "6       7.77        73.3       1.69   3220          0  "
      ]
     },
     "execution_count": 62,
     "metadata": {},
     "output_type": "execute_result"
    }
   ],
   "source": [
    "country_df_cluster0.head()"
   ]
  },
  {
   "cell_type": "code",
   "execution_count": 63,
   "metadata": {},
   "outputs": [],
   "source": [
    "country_df_cluster0_gdp = country_df_cluster0.sort_values(['gdpp'], ascending=[False])\n",
    "country_df_cluster0_income = country_df_cluster0.sort_values(['income'], ascending=[False])\n",
    "country_df_cluster0_child_mort = country_df_cluster0.sort_values(['child_mort'], ascending=[True])"
   ]
  },
  {
   "cell_type": "code",
   "execution_count": 64,
   "metadata": {},
   "outputs": [
    {
     "data": {
      "text/html": [
       "<div>\n",
       "<style scoped>\n",
       "    .dataframe tbody tr th:only-of-type {\n",
       "        vertical-align: middle;\n",
       "    }\n",
       "\n",
       "    .dataframe tbody tr th {\n",
       "        vertical-align: top;\n",
       "    }\n",
       "\n",
       "    .dataframe thead th {\n",
       "        text-align: right;\n",
       "    }\n",
       "</style>\n",
       "<table border=\"1\" class=\"dataframe\">\n",
       "  <thead>\n",
       "    <tr style=\"text-align: right;\">\n",
       "      <th></th>\n",
       "      <th>country</th>\n",
       "      <th>gdpp</th>\n",
       "      <th>child_mort</th>\n",
       "      <th>income</th>\n",
       "    </tr>\n",
       "  </thead>\n",
       "  <tbody>\n",
       "    <tr>\n",
       "      <th>83</th>\n",
       "      <td>Kyrgyz Republic</td>\n",
       "      <td>880</td>\n",
       "      <td>29.6</td>\n",
       "      <td>2790</td>\n",
       "    </tr>\n",
       "    <tr>\n",
       "      <th>27</th>\n",
       "      <td>Cambodia</td>\n",
       "      <td>786</td>\n",
       "      <td>44.4</td>\n",
       "      <td>2520</td>\n",
       "    </tr>\n",
       "    <tr>\n",
       "      <th>12</th>\n",
       "      <td>Bangladesh</td>\n",
       "      <td>758</td>\n",
       "      <td>49.4</td>\n",
       "      <td>2440</td>\n",
       "    </tr>\n",
       "    <tr>\n",
       "      <th>146</th>\n",
       "      <td>Tajikistan</td>\n",
       "      <td>738</td>\n",
       "      <td>52.4</td>\n",
       "      <td>2110</td>\n",
       "    </tr>\n",
       "    <tr>\n",
       "      <th>109</th>\n",
       "      <td>Nepal</td>\n",
       "      <td>592</td>\n",
       "      <td>47.0</td>\n",
       "      <td>1990</td>\n",
       "    </tr>\n",
       "  </tbody>\n",
       "</table>\n",
       "</div>"
      ],
      "text/plain": [
       "             country  gdpp  child_mort  income\n",
       "83   Kyrgyz Republic   880        29.6    2790\n",
       "27          Cambodia   786        44.4    2520\n",
       "12        Bangladesh   758        49.4    2440\n",
       "146       Tajikistan   738        52.4    2110\n",
       "109            Nepal   592        47.0    1990"
      ]
     },
     "execution_count": 64,
     "metadata": {},
     "output_type": "execute_result"
    }
   ],
   "source": [
    "country_df_cluster0_gdp[cols].tail()"
   ]
  },
  {
   "cell_type": "markdown",
   "metadata": {},
   "source": [
    "<font color = green> If you compare these above countries of Cluster 0 with Cluster2, all countries here are having less child mortality rate compared to cluster 2 countries which we identified earlier. Income is comparitively little better as well while gdpp are less, in which we can see `Nepal` being one of the country with both gdpp and income as very less. Infact Nepal can be seen values lesser than even Chad or Mali."
   ]
  },
  {
   "cell_type": "code",
   "execution_count": 65,
   "metadata": {},
   "outputs": [
    {
     "data": {
      "text/html": [
       "<div>\n",
       "<style scoped>\n",
       "    .dataframe tbody tr th:only-of-type {\n",
       "        vertical-align: middle;\n",
       "    }\n",
       "\n",
       "    .dataframe tbody tr th {\n",
       "        vertical-align: top;\n",
       "    }\n",
       "\n",
       "    .dataframe thead th {\n",
       "        text-align: right;\n",
       "    }\n",
       "</style>\n",
       "<table border=\"1\" class=\"dataframe\">\n",
       "  <thead>\n",
       "    <tr style=\"text-align: right;\">\n",
       "      <th></th>\n",
       "      <th>country</th>\n",
       "      <th>gdpp</th>\n",
       "      <th>child_mort</th>\n",
       "      <th>income</th>\n",
       "    </tr>\n",
       "  </thead>\n",
       "  <tbody>\n",
       "    <tr>\n",
       "      <th>83</th>\n",
       "      <td>Kyrgyz Republic</td>\n",
       "      <td>880</td>\n",
       "      <td>29.6</td>\n",
       "      <td>2790</td>\n",
       "    </tr>\n",
       "    <tr>\n",
       "      <th>27</th>\n",
       "      <td>Cambodia</td>\n",
       "      <td>786</td>\n",
       "      <td>44.4</td>\n",
       "      <td>2520</td>\n",
       "    </tr>\n",
       "    <tr>\n",
       "      <th>12</th>\n",
       "      <td>Bangladesh</td>\n",
       "      <td>758</td>\n",
       "      <td>49.4</td>\n",
       "      <td>2440</td>\n",
       "    </tr>\n",
       "    <tr>\n",
       "      <th>146</th>\n",
       "      <td>Tajikistan</td>\n",
       "      <td>738</td>\n",
       "      <td>52.4</td>\n",
       "      <td>2110</td>\n",
       "    </tr>\n",
       "    <tr>\n",
       "      <th>109</th>\n",
       "      <td>Nepal</td>\n",
       "      <td>592</td>\n",
       "      <td>47.0</td>\n",
       "      <td>1990</td>\n",
       "    </tr>\n",
       "  </tbody>\n",
       "</table>\n",
       "</div>"
      ],
      "text/plain": [
       "             country  gdpp  child_mort  income\n",
       "83   Kyrgyz Republic   880        29.6    2790\n",
       "27          Cambodia   786        44.4    2520\n",
       "12        Bangladesh   758        49.4    2440\n",
       "146       Tajikistan   738        52.4    2110\n",
       "109            Nepal   592        47.0    1990"
      ]
     },
     "execution_count": 65,
     "metadata": {},
     "output_type": "execute_result"
    }
   ],
   "source": [
    "country_df_cluster0_income[cols].tail()"
   ]
  },
  {
   "cell_type": "code",
   "execution_count": 66,
   "metadata": {},
   "outputs": [
    {
     "data": {
      "text/html": [
       "<div>\n",
       "<style scoped>\n",
       "    .dataframe tbody tr th:only-of-type {\n",
       "        vertical-align: middle;\n",
       "    }\n",
       "\n",
       "    .dataframe tbody tr th {\n",
       "        vertical-align: top;\n",
       "    }\n",
       "\n",
       "    .dataframe thead th {\n",
       "        text-align: right;\n",
       "    }\n",
       "</style>\n",
       "<table border=\"1\" class=\"dataframe\">\n",
       "  <thead>\n",
       "    <tr style=\"text-align: right;\">\n",
       "      <th></th>\n",
       "      <th>country</th>\n",
       "      <th>gdpp</th>\n",
       "      <th>child_mort</th>\n",
       "      <th>income</th>\n",
       "    </tr>\n",
       "  </thead>\n",
       "  <tbody>\n",
       "    <tr>\n",
       "      <th>12</th>\n",
       "      <td>Bangladesh</td>\n",
       "      <td>758</td>\n",
       "      <td>49.4</td>\n",
       "      <td>2440</td>\n",
       "    </tr>\n",
       "    <tr>\n",
       "      <th>146</th>\n",
       "      <td>Tajikistan</td>\n",
       "      <td>738</td>\n",
       "      <td>52.4</td>\n",
       "      <td>2110</td>\n",
       "    </tr>\n",
       "    <tr>\n",
       "      <th>69</th>\n",
       "      <td>India</td>\n",
       "      <td>1350</td>\n",
       "      <td>58.8</td>\n",
       "      <td>4410</td>\n",
       "    </tr>\n",
       "    <tr>\n",
       "      <th>154</th>\n",
       "      <td>Turkmenistan</td>\n",
       "      <td>4440</td>\n",
       "      <td>62.0</td>\n",
       "      <td>9940</td>\n",
       "    </tr>\n",
       "    <tr>\n",
       "      <th>107</th>\n",
       "      <td>Myanmar</td>\n",
       "      <td>988</td>\n",
       "      <td>64.4</td>\n",
       "      <td>3720</td>\n",
       "    </tr>\n",
       "  </tbody>\n",
       "</table>\n",
       "</div>"
      ],
      "text/plain": [
       "          country  gdpp  child_mort  income\n",
       "12     Bangladesh   758        49.4    2440\n",
       "146    Tajikistan   738        52.4    2110\n",
       "69          India  1350        58.8    4410\n",
       "154  Turkmenistan  4440        62.0    9940\n",
       "107       Myanmar   988        64.4    3720"
      ]
     },
     "execution_count": 66,
     "metadata": {},
     "output_type": "execute_result"
    }
   ],
   "source": [
    "country_df_cluster0_child_mort[cols].tail()"
   ]
  },
  {
   "cell_type": "markdown",
   "metadata": {},
   "source": [
    "<font color = green> From the above clusters we can see compared to the african countries listed above,which we founded from cluster 2, these values are far below the level and hence we can ignore these countries."
   ]
  },
  {
   "cell_type": "markdown",
   "metadata": {},
   "source": [
    "<font color  = maroon > So now we have got a list of countries by analysing various clusters and their socio-economic indicators such as `GDPP, Child Mortality and Income` and we have finalised a list of countries which would be in need of aid for their development.\n",
    "_ <b> `Nigeria,Sierra Leone,Niger,Democratic Republic of Congo,Liberia,Burundi,Central African Republic,Mali,Chad,Haiti,Nepal and Tajikistan are the countries we chose`_."
   ]
  },
  {
   "cell_type": "markdown",
   "metadata": {},
   "source": [
    "<font color = green> <b> So now we are done clustering with K-Means algorithm and have done cluster analysis on clusters thus formed. We can take this approach and reiterate through Hierarchical Clustering also and find out what insight we can get from it. </b>"
   ]
  },
  {
   "cell_type": "markdown",
   "metadata": {},
   "source": [
    "#### Hierarchical Clustering"
   ]
  },
  {
   "cell_type": "code",
   "execution_count": 67,
   "metadata": {},
   "outputs": [
    {
     "data": {
      "text/html": [
       "<div>\n",
       "<style scoped>\n",
       "    .dataframe tbody tr th:only-of-type {\n",
       "        vertical-align: middle;\n",
       "    }\n",
       "\n",
       "    .dataframe tbody tr th {\n",
       "        vertical-align: top;\n",
       "    }\n",
       "\n",
       "    .dataframe thead th {\n",
       "        text-align: right;\n",
       "    }\n",
       "</style>\n",
       "<table border=\"1\" class=\"dataframe\">\n",
       "  <thead>\n",
       "    <tr style=\"text-align: right;\">\n",
       "      <th></th>\n",
       "      <th>PC1</th>\n",
       "      <th>PC2</th>\n",
       "      <th>PC3</th>\n",
       "      <th>PC4</th>\n",
       "      <th>PC5</th>\n",
       "    </tr>\n",
       "  </thead>\n",
       "  <tbody>\n",
       "    <tr>\n",
       "      <th>0</th>\n",
       "      <td>-2.636338</td>\n",
       "      <td>1.472260</td>\n",
       "      <td>-0.548330</td>\n",
       "      <td>0.238302</td>\n",
       "      <td>0.061003</td>\n",
       "    </tr>\n",
       "    <tr>\n",
       "      <th>1</th>\n",
       "      <td>-0.023783</td>\n",
       "      <td>-1.435535</td>\n",
       "      <td>-0.015470</td>\n",
       "      <td>-0.428278</td>\n",
       "      <td>-0.154305</td>\n",
       "    </tr>\n",
       "    <tr>\n",
       "      <th>2</th>\n",
       "      <td>-0.459228</td>\n",
       "      <td>-0.679705</td>\n",
       "      <td>0.956537</td>\n",
       "      <td>-0.193531</td>\n",
       "      <td>-0.092128</td>\n",
       "    </tr>\n",
       "    <tr>\n",
       "      <th>3</th>\n",
       "      <td>-2.723472</td>\n",
       "      <td>2.174966</td>\n",
       "      <td>0.597397</td>\n",
       "      <td>0.417695</td>\n",
       "      <td>0.056694</td>\n",
       "    </tr>\n",
       "    <tr>\n",
       "      <th>4</th>\n",
       "      <td>0.649103</td>\n",
       "      <td>-1.026404</td>\n",
       "      <td>-0.258645</td>\n",
       "      <td>-0.276882</td>\n",
       "      <td>0.077087</td>\n",
       "    </tr>\n",
       "  </tbody>\n",
       "</table>\n",
       "</div>"
      ],
      "text/plain": [
       "        PC1       PC2       PC3       PC4       PC5\n",
       "0 -2.636338  1.472260 -0.548330  0.238302  0.061003\n",
       "1 -0.023783 -1.435535 -0.015470 -0.428278 -0.154305\n",
       "2 -0.459228 -0.679705  0.956537 -0.193531 -0.092128\n",
       "3 -2.723472  2.174966  0.597397  0.417695  0.056694\n",
       "4  0.649103 -1.026404 -0.258645 -0.276882  0.077087"
      ]
     },
     "execution_count": 67,
     "metadata": {},
     "output_type": "execute_result"
    }
   ],
   "source": [
    "#pcs_df is the dataframe with only Principal components. We can input this to the Hierarchical Clustering algorithm to find the dendrogram.\n",
    "pcs_df.head()"
   ]
  },
  {
   "cell_type": "code",
   "execution_count": 68,
   "metadata": {},
   "outputs": [
    {
     "data": {
      "image/png": "[encoded data removed]",
      "text/plain": [
       "<Figure size 432x288 with 1 Axes>"
      ]
     },
     "metadata": {
      "needs_background": "light"
     },
     "output_type": "display_data"
    }
   ],
   "source": [
    "# Single linkage Hierarchical Clustering\n",
    "mergings = linkage(pcs_df, method=\"single\", metric='euclidean')\n",
    "dendrogram(mergings)\n",
    "plt.show()"
   ]
  },
  {
   "cell_type": "markdown",
   "metadata": {},
   "source": [
    "<font color = green> Single Linkage uses the distance between 2 clusters defined by the shortest distance between points in the two clusters. Here from the dendrogram given by the Single Linkage Hierarchical Clustering is difficult to interpret,since all the trees of the dendrogram are closely linked."
   ]
  },
  {
   "cell_type": "code",
   "execution_count": 69,
   "metadata": {},
   "outputs": [
    {
     "data": {
      "image/png": "[encoded data removed]",
      "text/plain": [
       "<Figure size 432x288 with 1 Axes>"
      ]
     },
     "metadata": {
      "needs_background": "light"
     },
     "output_type": "display_data"
    }
   ],
   "source": [
    "# Complete Linkage\n",
    "mergings = linkage(pcs_df, method=\"complete\", metric='euclidean')\n",
    "dendrogram(mergings)\n",
    "plt.show()"
   ]
  },
  {
   "cell_type": "markdown",
   "metadata": {},
   "source": [
    "<font color = green> The above shows Complete Linkage Hierarchical clustering which takes into account Maximum distance between any 2 points in the cluster. Cutting the dendrogram at an appropriate level depends on the clusters hence formed."
   ]
  },
  {
   "cell_type": "code",
   "execution_count": 70,
   "metadata": {},
   "outputs": [
    {
     "data": {
      "text/plain": [
       "array([0, 1, 1, 0, 1, 1, 1, 2, 2, 1, 1, 1, 1, 1, 1, 2, 1, 0, 1, 1, 1, 0,\n",
       "       1, 1, 1, 0, 0, 1, 0, 2, 1, 0, 0, 1, 1, 1, 0, 0, 0, 1, 0, 1, 1, 1,\n",
       "       2, 1, 1, 1, 1, 0, 0, 1, 1, 2, 2, 0, 0, 1, 2, 0, 1, 1, 1, 0, 0, 1,\n",
       "       0, 1, 2, 1, 1, 1, 0, 2, 1, 2, 1, 2, 1, 1, 0, 0, 1, 1, 0, 1, 1, 0,\n",
       "       0, 1, 1, 3, 1, 0, 0, 1, 1, 0, 1, 0, 1, 1, 1, 1, 1, 1, 0, 1, 0, 1,\n",
       "       2, 2, 0, 4, 2, 1, 0, 1, 1, 1, 1, 1, 1, 2, 1, 1, 0, 1, 1, 0, 1, 1,\n",
       "       0, 2, 1, 1, 0, 0, 1, 1, 1, 1, 0, 1, 2, 2, 1, 0, 1, 0, 0, 1, 1, 1,\n",
       "       1, 0, 1, 1, 2, 2, 1, 1, 1, 1, 1, 0, 0])"
      ]
     },
     "execution_count": 70,
     "metadata": {},
     "output_type": "execute_result"
    }
   ],
   "source": [
    "# 5 clusters\n",
    "cluster_labels = cut_tree(mergings, n_clusters=5).reshape(-1, )\n",
    "cluster_labels"
   ]
  },
  {
   "cell_type": "code",
   "execution_count": 71,
   "metadata": {},
   "outputs": [
    {
     "data": {
      "text/html": [
       "<div>\n",
       "<style scoped>\n",
       "    .dataframe tbody tr th:only-of-type {\n",
       "        vertical-align: middle;\n",
       "    }\n",
       "\n",
       "    .dataframe tbody tr th {\n",
       "        vertical-align: top;\n",
       "    }\n",
       "\n",
       "    .dataframe thead th {\n",
       "        text-align: right;\n",
       "    }\n",
       "</style>\n",
       "<table border=\"1\" class=\"dataframe\">\n",
       "  <thead>\n",
       "    <tr style=\"text-align: right;\">\n",
       "      <th></th>\n",
       "      <th>country</th>\n",
       "      <th>child_mort</th>\n",
       "      <th>exports</th>\n",
       "      <th>health</th>\n",
       "      <th>imports</th>\n",
       "      <th>income</th>\n",
       "      <th>inflation</th>\n",
       "      <th>life_expec</th>\n",
       "      <th>total_fer</th>\n",
       "      <th>gdpp</th>\n",
       "      <th>ClusterID</th>\n",
       "      <th>cluster_labels</th>\n",
       "    </tr>\n",
       "  </thead>\n",
       "  <tbody>\n",
       "    <tr>\n",
       "      <th>0</th>\n",
       "      <td>Afghanistan</td>\n",
       "      <td>90.2</td>\n",
       "      <td>55.30</td>\n",
       "      <td>41.9174</td>\n",
       "      <td>248.297</td>\n",
       "      <td>1610</td>\n",
       "      <td>9.44</td>\n",
       "      <td>56.2</td>\n",
       "      <td>5.82</td>\n",
       "      <td>553</td>\n",
       "      <td>2</td>\n",
       "      <td>0</td>\n",
       "    </tr>\n",
       "    <tr>\n",
       "      <th>1</th>\n",
       "      <td>Albania</td>\n",
       "      <td>16.6</td>\n",
       "      <td>1145.20</td>\n",
       "      <td>267.8950</td>\n",
       "      <td>1987.740</td>\n",
       "      <td>9930</td>\n",
       "      <td>4.49</td>\n",
       "      <td>76.3</td>\n",
       "      <td>1.65</td>\n",
       "      <td>4090</td>\n",
       "      <td>0</td>\n",
       "      <td>1</td>\n",
       "    </tr>\n",
       "    <tr>\n",
       "      <th>2</th>\n",
       "      <td>Algeria</td>\n",
       "      <td>27.3</td>\n",
       "      <td>1712.64</td>\n",
       "      <td>185.9820</td>\n",
       "      <td>1400.440</td>\n",
       "      <td>12900</td>\n",
       "      <td>16.10</td>\n",
       "      <td>76.5</td>\n",
       "      <td>2.89</td>\n",
       "      <td>4460</td>\n",
       "      <td>0</td>\n",
       "      <td>1</td>\n",
       "    </tr>\n",
       "    <tr>\n",
       "      <th>3</th>\n",
       "      <td>Angola</td>\n",
       "      <td>119.0</td>\n",
       "      <td>2199.19</td>\n",
       "      <td>100.6050</td>\n",
       "      <td>1514.370</td>\n",
       "      <td>5900</td>\n",
       "      <td>22.40</td>\n",
       "      <td>60.1</td>\n",
       "      <td>6.16</td>\n",
       "      <td>3530</td>\n",
       "      <td>2</td>\n",
       "      <td>0</td>\n",
       "    </tr>\n",
       "    <tr>\n",
       "      <th>4</th>\n",
       "      <td>Antigua and Barbuda</td>\n",
       "      <td>10.3</td>\n",
       "      <td>5551.00</td>\n",
       "      <td>735.6600</td>\n",
       "      <td>7185.800</td>\n",
       "      <td>19100</td>\n",
       "      <td>1.44</td>\n",
       "      <td>76.8</td>\n",
       "      <td>2.13</td>\n",
       "      <td>12200</td>\n",
       "      <td>0</td>\n",
       "      <td>1</td>\n",
       "    </tr>\n",
       "  </tbody>\n",
       "</table>\n",
       "</div>"
      ],
      "text/plain": [
       "               country  child_mort  exports    health   imports  income  \\\n",
       "0          Afghanistan        90.2    55.30   41.9174   248.297    1610   \n",
       "1              Albania        16.6  1145.20  267.8950  1987.740    9930   \n",
       "2              Algeria        27.3  1712.64  185.9820  1400.440   12900   \n",
       "3               Angola       119.0  2199.19  100.6050  1514.370    5900   \n",
       "4  Antigua and Barbuda        10.3  5551.00  735.6600  7185.800   19100   \n",
       "\n",
       "   inflation  life_expec  total_fer   gdpp  ClusterID  cluster_labels  \n",
       "0       9.44        56.2       5.82    553          2               0  \n",
       "1       4.49        76.3       1.65   4090          0               1  \n",
       "2      16.10        76.5       2.89   4460          0               1  \n",
       "3      22.40        60.1       6.16   3530          2               0  \n",
       "4       1.44        76.8       2.13  12200          0               1  "
      ]
     },
     "execution_count": 71,
     "metadata": {},
     "output_type": "execute_result"
    }
   ],
   "source": [
    "# assign cluster labels\n",
    "country_df_final['cluster_labels'] = cluster_labels\n",
    "country_df_final.head()"
   ]
  },
  {
   "cell_type": "code",
   "execution_count": 72,
   "metadata": {},
   "outputs": [
    {
     "data": {
      "text/html": [
       "<div>\n",
       "<style scoped>\n",
       "    .dataframe tbody tr th:only-of-type {\n",
       "        vertical-align: middle;\n",
       "    }\n",
       "\n",
       "    .dataframe tbody tr th {\n",
       "        vertical-align: top;\n",
       "    }\n",
       "\n",
       "    .dataframe thead th {\n",
       "        text-align: right;\n",
       "    }\n",
       "</style>\n",
       "<table border=\"1\" class=\"dataframe\">\n",
       "  <thead>\n",
       "    <tr style=\"text-align: right;\">\n",
       "      <th></th>\n",
       "      <th>country</th>\n",
       "      <th>child_mort</th>\n",
       "      <th>exports</th>\n",
       "      <th>health</th>\n",
       "      <th>imports</th>\n",
       "      <th>income</th>\n",
       "      <th>inflation</th>\n",
       "      <th>life_expec</th>\n",
       "      <th>total_fer</th>\n",
       "      <th>gdpp</th>\n",
       "      <th>ClusterID</th>\n",
       "      <th>cluster_labels</th>\n",
       "    </tr>\n",
       "  </thead>\n",
       "  <tbody>\n",
       "    <tr>\n",
       "      <th>91</th>\n",
       "      <td>Luxembourg</td>\n",
       "      <td>2.8</td>\n",
       "      <td>183750.0</td>\n",
       "      <td>8158.5</td>\n",
       "      <td>149100.0</td>\n",
       "      <td>91700</td>\n",
       "      <td>3.62</td>\n",
       "      <td>81.3</td>\n",
       "      <td>1.63</td>\n",
       "      <td>105000</td>\n",
       "      <td>4</td>\n",
       "      <td>3</td>\n",
       "    </tr>\n",
       "  </tbody>\n",
       "</table>\n",
       "</div>"
      ],
      "text/plain": [
       "       country  child_mort   exports  health   imports  income  inflation  \\\n",
       "91  Luxembourg         2.8  183750.0  8158.5  149100.0   91700       3.62   \n",
       "\n",
       "    life_expec  total_fer    gdpp  ClusterID  cluster_labels  \n",
       "91        81.3       1.63  105000          4               3  "
      ]
     },
     "execution_count": 72,
     "metadata": {},
     "output_type": "execute_result"
    }
   ],
   "source": [
    "country_df_final.loc[country_df_final.cluster_labels==3]"
   ]
  },
  {
   "cell_type": "code",
   "execution_count": 73,
   "metadata": {},
   "outputs": [
    {
     "data": {
      "text/html": [
       "<div>\n",
       "<style scoped>\n",
       "    .dataframe tbody tr th:only-of-type {\n",
       "        vertical-align: middle;\n",
       "    }\n",
       "\n",
       "    .dataframe tbody tr th {\n",
       "        vertical-align: top;\n",
       "    }\n",
       "\n",
       "    .dataframe thead th {\n",
       "        text-align: right;\n",
       "    }\n",
       "</style>\n",
       "<table border=\"1\" class=\"dataframe\">\n",
       "  <thead>\n",
       "    <tr style=\"text-align: right;\">\n",
       "      <th></th>\n",
       "      <th>country</th>\n",
       "      <th>child_mort</th>\n",
       "      <th>exports</th>\n",
       "      <th>health</th>\n",
       "      <th>imports</th>\n",
       "      <th>income</th>\n",
       "      <th>inflation</th>\n",
       "      <th>life_expec</th>\n",
       "      <th>total_fer</th>\n",
       "      <th>gdpp</th>\n",
       "      <th>ClusterID</th>\n",
       "      <th>cluster_labels</th>\n",
       "    </tr>\n",
       "  </thead>\n",
       "  <tbody>\n",
       "    <tr>\n",
       "      <th>113</th>\n",
       "      <td>Nigeria</td>\n",
       "      <td>130.0</td>\n",
       "      <td>589.49</td>\n",
       "      <td>118.131</td>\n",
       "      <td>405.42</td>\n",
       "      <td>5150</td>\n",
       "      <td>104.0</td>\n",
       "      <td>60.5</td>\n",
       "      <td>5.84</td>\n",
       "      <td>2330</td>\n",
       "      <td>3</td>\n",
       "      <td>4</td>\n",
       "    </tr>\n",
       "  </tbody>\n",
       "</table>\n",
       "</div>"
      ],
      "text/plain": [
       "     country  child_mort  exports   health  imports  income  inflation  \\\n",
       "113  Nigeria       130.0   589.49  118.131   405.42    5150      104.0   \n",
       "\n",
       "     life_expec  total_fer  gdpp  ClusterID  cluster_labels  \n",
       "113        60.5       5.84  2330          3               4  "
      ]
     },
     "execution_count": 73,
     "metadata": {},
     "output_type": "execute_result"
    }
   ],
   "source": [
    "country_df_final.loc[country_df_final.cluster_labels==4]"
   ]
  },
  {
   "cell_type": "code",
   "execution_count": 74,
   "metadata": {},
   "outputs": [
    {
     "data": {
      "text/plain": [
       "(97, 12)"
      ]
     },
     "execution_count": 74,
     "metadata": {},
     "output_type": "execute_result"
    }
   ],
   "source": [
    "country_df_final.loc[country_df_final.cluster_labels==1].shape"
   ]
  },
  {
   "cell_type": "code",
   "execution_count": 75,
   "metadata": {},
   "outputs": [
    {
     "data": {
      "text/plain": [
       "(47, 12)"
      ]
     },
     "execution_count": 75,
     "metadata": {},
     "output_type": "execute_result"
    }
   ],
   "source": [
    "country_df_final.loc[country_df_final.cluster_labels==0].shape"
   ]
  },
  {
   "cell_type": "code",
   "execution_count": 76,
   "metadata": {},
   "outputs": [
    {
     "data": {
      "text/plain": [
       "(21, 12)"
      ]
     },
     "execution_count": 76,
     "metadata": {},
     "output_type": "execute_result"
    }
   ],
   "source": [
    "country_df_final.loc[country_df_final.cluster_labels==2].shape"
   ]
  },
  {
   "cell_type": "markdown",
   "metadata": {},
   "source": [
    "<font color = green> So what we see here after Hierarchical clustering is that, first we went with the Single Linkage clustering which is defined by the shortest distance points in the 2 clusters. We couldn't get any proper understanding from the dendrogram.\n",
    "With the Complete Linkage Clustering(defined by maximum distance between 2 points in the cluster), we can see a much clearer dendrogram where we can cut from and select clusters. As similar to what we have selected in k-means, we can select around 5 clusters by cutting the dendrogram around 10.0.\n",
    "By analysing the two clusters 3 and 4 here and the shape of the other clusters it is similar to the findings what we have from K-Means.\n",
    "Hence we will finalise what we have provided with K-Means."
   ]
  },
  {
   "cell_type": "markdown",
   "metadata": {},
   "source": [
    "<font color = red> <b> FINAL LIST OF COUNTRIES WHICH WE CHOOSE ARE - `Nigeria,Sierra Leone,Niger,Democratic Republic of Congo,Liberia,Burundi,Central African Republic,Mali,Chad,Haiti,Nepal and Tajikistan`"
   ]
  },
  {
   "cell_type": "code",
   "execution_count": null,
   "metadata": {},
   "outputs": [],
   "source": []
  }
 ],
 "metadata": {
  "kernelspec": {
   "display_name": "Python 3",
   "language": "python",
   "name": "python3"
  },
  "language_info": {
   "codemirror_mode": {
    "name": "ipython",
    "version": 3
   },
   "file_extension": ".py",
   "mimetype": "text/x-python",
   "name": "python",
   "nbconvert_exporter": "python",
   "pygments_lexer": "ipython3",
   "version": "3.7.1"
  }
 },
 "nbformat": 4,
 "nbformat_minor": 2
}
